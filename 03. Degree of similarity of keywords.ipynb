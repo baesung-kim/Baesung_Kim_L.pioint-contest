{
 "cells": [
  {
   "cell_type": "code",
   "execution_count": 4,
   "metadata": {
    "ExecuteTime": {
     "end_time": "2020-01-07T08:42:53.543669Z",
     "start_time": "2020-01-07T08:42:53.540658Z"
    }
   },
   "outputs": [],
   "source": [
    "# import\n",
    "import numpy as np\n",
    "import pandas as pd\n",
    "import os\n",
    "from datetime import datetime\n",
    "import Levenshtein"
   ]
  },
  {
   "cell_type": "code",
   "execution_count": 2,
   "metadata": {
    "ExecuteTime": {
     "end_time": "2020-01-07T08:42:17.158364Z",
     "start_time": "2020-01-07T08:42:13.927522Z"
    }
   },
   "outputs": [
    {
     "name": "stderr",
     "output_type": "stream",
     "text": [
      "/Users/hwesungryu/anaconda3/envs/tensorflow/lib/python3.6/site-packages/IPython/core/interactiveshell.py:3058: DtypeWarning: Columns (9) have mixed types. Specify dtype option on import or set low_memory=False.\n",
      "  interactivity=interactivity, compiler=compiler, result=result)\n"
     ]
    }
   ],
   "source": [
    "action_df = pd.read_csv('./data/제6회 L.POINT Big Data Competition-분석용데이터-01.온라인 행동 정보.csv')"
   ]
  },
  {
   "cell_type": "code",
   "execution_count": 5,
   "metadata": {
    "ExecuteTime": {
     "end_time": "2020-01-07T08:43:23.952300Z",
     "start_time": "2020-01-07T08:42:54.990932Z"
    }
   },
   "outputs": [],
   "source": [
    "\n",
    "action_df.sess_dt = action_df.sess_dt.astype(str)\n",
    "action_df.hit_tm = action_df.hit_tm.astype(str)\n",
    "action_df['date'] = action_df.sess_dt +' '+action_df.hit_tm\n",
    "action_df['date'] = action_df['date'].map(lambda x: datetime.strptime(x,'%Y%m%d %H:%M'))\n",
    "\n",
    "# to Datetime index \n",
    "action_df.sess_dt = pd.to_datetime(action_df.sess_dt)\n",
    "action_df = action_df.sort_values('date',ascending=True)\n",
    "action_df = action_df.set_index(['date'])\n"
   ]
  },
  {
   "cell_type": "code",
   "execution_count": 17,
   "metadata": {
    "ExecuteTime": {
     "end_time": "2020-01-07T08:52:21.073823Z",
     "start_time": "2020-01-07T08:52:21.063939Z"
    }
   },
   "outputs": [],
   "source": [
    "import Levenshtein\n",
    "\n",
    "def caculate_sim(sample):\n",
    "    '''\n",
    "    리스트 넣으면 유사어 몇개 찾았는지 알려줌\n",
    "    '''\n",
    "    step = 0\n",
    "    count = 0 \n",
    "    count_dic = {}\n",
    "    similarity_dic = {}\n",
    "    \n",
    "    \n",
    "    for i in range(len(sample)):\n",
    "        step+=1\n",
    "        for j in range(step,len(sample)):\n",
    "            similarity_dic[(sample[i],sample[j])]= Levenshtein.ratio(sample[i],sample[j])\n",
    "    \n",
    "    for i,j in similarity_dic.items():\n",
    "            if (1<len(i[0])<=2) & (1<len(i[1])<=2):\n",
    "                if 0.6 < j <= 1.1: # threshold == 0.6 \n",
    "                    count+=1\n",
    "#                     count_dic[i] = j\n",
    "            if (len(i[0])<=1) & (len(i[1])<=1):\n",
    "                if j == 1: # threshold == 0.6 \n",
    "                    pass\n",
    "                    \n",
    "            elif (2<len(i[0])<=4) & (2<len(i[1])<=4):\n",
    "                if 0.5 < j <= 1.1: # threshold == 0.4 \n",
    "                    count+=1\n",
    "            elif (4<len(i[0])<=6) & (4<len(i[1])<=6):\n",
    "                if 0.45 < j <= 1.1: # threshold == 0.4 \n",
    "                    count+=1\n",
    "            else:\n",
    "                if 0.4 < j <= 1.1: # threshold == 0.4 \n",
    "                    count+=1\n",
    "                    \n",
    "#                     count_dic[i] = j\n",
    "    \n",
    "\n",
    "\n",
    "    return count\n",
    "\n"
   ]
  },
  {
   "cell_type": "code",
   "execution_count": 18,
   "metadata": {
    "ExecuteTime": {
     "end_time": "2020-01-07T08:52:23.243916Z",
     "start_time": "2020-01-07T08:52:23.077094Z"
    }
   },
   "outputs": [],
   "source": [
    "tmp = action_df[['clnt_id','action_type','sech_kwd']]\n",
    "tmp = tmp[tmp.action_type == 0]\n",
    "tmp.sech_kwd = tmp.sech_kwd.astype(str)"
   ]
  },
  {
   "cell_type": "code",
   "execution_count": null,
   "metadata": {},
   "outputs": [],
   "source": [
    "tmp.reset_index()"
   ]
  },
  {
   "cell_type": "code",
   "execution_count": 19,
   "metadata": {
    "ExecuteTime": {
     "end_time": "2020-01-07T08:53:48.981899Z",
     "start_time": "2020-01-07T08:52:25.124528Z"
    }
   },
   "outputs": [],
   "source": [
    "ssim_dic = {}\n",
    "\n",
    "\n",
    "for i in list(tmp.clnt_id.unique()):\n",
    "    idx = tmp[tmp.clnt_id == i]\n",
    "    ssim_dic[i] = caculate_sim(list(idx.sech_kwd))    "
   ]
  },
  {
   "cell_type": "code",
   "execution_count": 20,
   "metadata": {
    "ExecuteTime": {
     "end_time": "2020-01-07T08:53:49.007376Z",
     "start_time": "2020-01-07T08:53:48.984435Z"
    }
   },
   "outputs": [],
   "source": [
    "df = pd.DataFrame(list(ssim_dic.items()), columns=['clnt_id', 'sim_count'])"
   ]
  },
  {
   "cell_type": "code",
   "execution_count": 21,
   "metadata": {
    "ExecuteTime": {
     "end_time": "2020-01-07T08:53:49.019274Z",
     "start_time": "2020-01-07T08:53:49.010452Z"
    }
   },
   "outputs": [
    {
     "data": {
      "text/html": [
       "<div>\n",
       "<style scoped>\n",
       "    .dataframe tbody tr th:only-of-type {\n",
       "        vertical-align: middle;\n",
       "    }\n",
       "\n",
       "    .dataframe tbody tr th {\n",
       "        vertical-align: top;\n",
       "    }\n",
       "\n",
       "    .dataframe thead th {\n",
       "        text-align: right;\n",
       "    }\n",
       "</style>\n",
       "<table border=\"1\" class=\"dataframe\">\n",
       "  <thead>\n",
       "    <tr style=\"text-align: right;\">\n",
       "      <th></th>\n",
       "      <th>clnt_id</th>\n",
       "      <th>sim_count</th>\n",
       "    </tr>\n",
       "  </thead>\n",
       "  <tbody>\n",
       "    <tr>\n",
       "      <th>0</th>\n",
       "      <td>30605</td>\n",
       "      <td>2</td>\n",
       "    </tr>\n",
       "    <tr>\n",
       "      <th>1</th>\n",
       "      <td>28304</td>\n",
       "      <td>4</td>\n",
       "    </tr>\n",
       "    <tr>\n",
       "      <th>2</th>\n",
       "      <td>43159</td>\n",
       "      <td>0</td>\n",
       "    </tr>\n",
       "    <tr>\n",
       "      <th>3</th>\n",
       "      <td>24276</td>\n",
       "      <td>47</td>\n",
       "    </tr>\n",
       "    <tr>\n",
       "      <th>4</th>\n",
       "      <td>47444</td>\n",
       "      <td>36</td>\n",
       "    </tr>\n",
       "    <tr>\n",
       "      <th>...</th>\n",
       "      <td>...</td>\n",
       "      <td>...</td>\n",
       "    </tr>\n",
       "    <tr>\n",
       "      <th>38559</th>\n",
       "      <td>895</td>\n",
       "      <td>1</td>\n",
       "    </tr>\n",
       "    <tr>\n",
       "      <th>38560</th>\n",
       "      <td>31032</td>\n",
       "      <td>7</td>\n",
       "    </tr>\n",
       "    <tr>\n",
       "      <th>38561</th>\n",
       "      <td>31040</td>\n",
       "      <td>0</td>\n",
       "    </tr>\n",
       "    <tr>\n",
       "      <th>38562</th>\n",
       "      <td>4129</td>\n",
       "      <td>1</td>\n",
       "    </tr>\n",
       "    <tr>\n",
       "      <th>38563</th>\n",
       "      <td>54403</td>\n",
       "      <td>0</td>\n",
       "    </tr>\n",
       "  </tbody>\n",
       "</table>\n",
       "<p>38564 rows × 2 columns</p>\n",
       "</div>"
      ],
      "text/plain": [
       "       clnt_id  sim_count\n",
       "0        30605          2\n",
       "1        28304          4\n",
       "2        43159          0\n",
       "3        24276         47\n",
       "4        47444         36\n",
       "...        ...        ...\n",
       "38559      895          1\n",
       "38560    31032          7\n",
       "38561    31040          0\n",
       "38562     4129          1\n",
       "38563    54403          0\n",
       "\n",
       "[38564 rows x 2 columns]"
      ]
     },
     "execution_count": 21,
     "metadata": {},
     "output_type": "execute_result"
    }
   ],
   "source": [
    "df"
   ]
  },
  {
   "cell_type": "code",
   "execution_count": 23,
   "metadata": {
    "ExecuteTime": {
     "end_time": "2020-01-07T08:54:54.801614Z",
     "start_time": "2020-01-07T08:54:54.796856Z"
    }
   },
   "outputs": [
    {
     "data": {
      "text/plain": [
       "64041"
      ]
     },
     "execution_count": 23,
     "metadata": {},
     "output_type": "execute_result"
    }
   ],
   "source": [
    "df.sim_count.max()"
   ]
  },
  {
   "cell_type": "code",
   "execution_count": 22,
   "metadata": {
    "ExecuteTime": {
     "end_time": "2020-01-07T08:53:49.218028Z",
     "start_time": "2020-01-07T08:53:49.021544Z"
    }
   },
   "outputs": [
    {
     "data": {
      "text/plain": [
       "<matplotlib.axes._subplots.AxesSubplot at 0x127f508d0>"
      ]
     },
     "execution_count": 22,
     "metadata": {},
     "output_type": "execute_result"
    },
    {
     "data": {
      "image/png": "[encoded data removed]",
      "text/plain": [
       "<Figure size 432x288 with 1 Axes>"
      ]
     },
     "metadata": {
      "needs_background": "light"
     },
     "output_type": "display_data"
    }
   ],
   "source": [
    "df.sim_count.plot()"
   ]
  },
  {
   "cell_type": "code",
   "execution_count": 27,
   "metadata": {
    "ExecuteTime": {
     "end_time": "2020-01-07T08:58:18.647140Z",
     "start_time": "2020-01-07T08:58:18.640510Z"
    }
   },
   "outputs": [],
   "source": [
    "df = df.sort_values('sim_count',ascending=False)"
   ]
  },
  {
   "cell_type": "code",
   "execution_count": 31,
   "metadata": {
    "ExecuteTime": {
     "end_time": "2020-01-07T08:59:38.535490Z",
     "start_time": "2020-01-07T08:59:38.526324Z"
    }
   },
   "outputs": [
    {
     "data": {
      "text/html": [
       "<div>\n",
       "<style scoped>\n",
       "    .dataframe tbody tr th:only-of-type {\n",
       "        vertical-align: middle;\n",
       "    }\n",
       "\n",
       "    .dataframe tbody tr th {\n",
       "        vertical-align: top;\n",
       "    }\n",
       "\n",
       "    .dataframe thead th {\n",
       "        text-align: right;\n",
       "    }\n",
       "</style>\n",
       "<table border=\"1\" class=\"dataframe\">\n",
       "  <thead>\n",
       "    <tr style=\"text-align: right;\">\n",
       "      <th></th>\n",
       "      <th>clnt_id</th>\n",
       "      <th>sim_count</th>\n",
       "    </tr>\n",
       "  </thead>\n",
       "  <tbody>\n",
       "    <tr>\n",
       "      <th>27800</th>\n",
       "      <td>69893</td>\n",
       "      <td>64041</td>\n",
       "    </tr>\n",
       "    <tr>\n",
       "      <th>20892</th>\n",
       "      <td>19555</td>\n",
       "      <td>56429</td>\n",
       "    </tr>\n",
       "    <tr>\n",
       "      <th>26222</th>\n",
       "      <td>48135</td>\n",
       "      <td>16474</td>\n",
       "    </tr>\n",
       "    <tr>\n",
       "      <th>9035</th>\n",
       "      <td>28570</td>\n",
       "      <td>8538</td>\n",
       "    </tr>\n",
       "    <tr>\n",
       "      <th>20326</th>\n",
       "      <td>9777</td>\n",
       "      <td>7348</td>\n",
       "    </tr>\n",
       "    <tr>\n",
       "      <th>...</th>\n",
       "      <td>...</td>\n",
       "      <td>...</td>\n",
       "    </tr>\n",
       "    <tr>\n",
       "      <th>20325</th>\n",
       "      <td>42973</td>\n",
       "      <td>0</td>\n",
       "    </tr>\n",
       "    <tr>\n",
       "      <th>20331</th>\n",
       "      <td>8295</td>\n",
       "      <td>0</td>\n",
       "    </tr>\n",
       "    <tr>\n",
       "      <th>20332</th>\n",
       "      <td>32205</td>\n",
       "      <td>0</td>\n",
       "    </tr>\n",
       "    <tr>\n",
       "      <th>20341</th>\n",
       "      <td>41835</td>\n",
       "      <td>0</td>\n",
       "    </tr>\n",
       "    <tr>\n",
       "      <th>38563</th>\n",
       "      <td>54403</td>\n",
       "      <td>0</td>\n",
       "    </tr>\n",
       "  </tbody>\n",
       "</table>\n",
       "<p>38564 rows × 2 columns</p>\n",
       "</div>"
      ],
      "text/plain": [
       "       clnt_id  sim_count\n",
       "27800    69893      64041\n",
       "20892    19555      56429\n",
       "26222    48135      16474\n",
       "9035     28570       8538\n",
       "20326     9777       7348\n",
       "...        ...        ...\n",
       "20325    42973          0\n",
       "20331     8295          0\n",
       "20332    32205          0\n",
       "20341    41835          0\n",
       "38563    54403          0\n",
       "\n",
       "[38564 rows x 2 columns]"
      ]
     },
     "execution_count": 31,
     "metadata": {},
     "output_type": "execute_result"
    }
   ],
   "source": [
    "df"
   ]
  },
  {
   "cell_type": "code",
   "execution_count": 35,
   "metadata": {
    "ExecuteTime": {
     "end_time": "2020-01-07T09:00:45.738640Z",
     "start_time": "2020-01-07T09:00:45.734464Z"
    }
   },
   "outputs": [],
   "source": [
    "df.iloc[0].sim_count=16000\n",
    "df.iloc[1].sim_count=13000\n",
    "df.iloc[2].sim_count=9000"
   ]
  },
  {
   "cell_type": "code",
   "execution_count": 36,
   "metadata": {
    "ExecuteTime": {
     "end_time": "2020-01-07T09:00:47.477241Z",
     "start_time": "2020-01-07T09:00:47.467899Z"
    }
   },
   "outputs": [
    {
     "data": {
      "text/html": [
       "<div>\n",
       "<style scoped>\n",
       "    .dataframe tbody tr th:only-of-type {\n",
       "        vertical-align: middle;\n",
       "    }\n",
       "\n",
       "    .dataframe tbody tr th {\n",
       "        vertical-align: top;\n",
       "    }\n",
       "\n",
       "    .dataframe thead th {\n",
       "        text-align: right;\n",
       "    }\n",
       "</style>\n",
       "<table border=\"1\" class=\"dataframe\">\n",
       "  <thead>\n",
       "    <tr style=\"text-align: right;\">\n",
       "      <th></th>\n",
       "      <th>clnt_id</th>\n",
       "      <th>sim_count</th>\n",
       "    </tr>\n",
       "  </thead>\n",
       "  <tbody>\n",
       "    <tr>\n",
       "      <th>27800</th>\n",
       "      <td>69893</td>\n",
       "      <td>16000</td>\n",
       "    </tr>\n",
       "    <tr>\n",
       "      <th>20892</th>\n",
       "      <td>19555</td>\n",
       "      <td>13000</td>\n",
       "    </tr>\n",
       "    <tr>\n",
       "      <th>26222</th>\n",
       "      <td>48135</td>\n",
       "      <td>9000</td>\n",
       "    </tr>\n",
       "    <tr>\n",
       "      <th>9035</th>\n",
       "      <td>28570</td>\n",
       "      <td>8538</td>\n",
       "    </tr>\n",
       "    <tr>\n",
       "      <th>20326</th>\n",
       "      <td>9777</td>\n",
       "      <td>7348</td>\n",
       "    </tr>\n",
       "    <tr>\n",
       "      <th>...</th>\n",
       "      <td>...</td>\n",
       "      <td>...</td>\n",
       "    </tr>\n",
       "    <tr>\n",
       "      <th>20325</th>\n",
       "      <td>42973</td>\n",
       "      <td>0</td>\n",
       "    </tr>\n",
       "    <tr>\n",
       "      <th>20331</th>\n",
       "      <td>8295</td>\n",
       "      <td>0</td>\n",
       "    </tr>\n",
       "    <tr>\n",
       "      <th>20332</th>\n",
       "      <td>32205</td>\n",
       "      <td>0</td>\n",
       "    </tr>\n",
       "    <tr>\n",
       "      <th>20341</th>\n",
       "      <td>41835</td>\n",
       "      <td>0</td>\n",
       "    </tr>\n",
       "    <tr>\n",
       "      <th>38563</th>\n",
       "      <td>54403</td>\n",
       "      <td>0</td>\n",
       "    </tr>\n",
       "  </tbody>\n",
       "</table>\n",
       "<p>38564 rows × 2 columns</p>\n",
       "</div>"
      ],
      "text/plain": [
       "       clnt_id  sim_count\n",
       "27800    69893      16000\n",
       "20892    19555      13000\n",
       "26222    48135       9000\n",
       "9035     28570       8538\n",
       "20326     9777       7348\n",
       "...        ...        ...\n",
       "20325    42973          0\n",
       "20331     8295          0\n",
       "20332    32205          0\n",
       "20341    41835          0\n",
       "38563    54403          0\n",
       "\n",
       "[38564 rows x 2 columns]"
      ]
     },
     "execution_count": 36,
     "metadata": {},
     "output_type": "execute_result"
    }
   ],
   "source": [
    "df"
   ]
  },
  {
   "cell_type": "code",
   "execution_count": 43,
   "metadata": {
    "ExecuteTime": {
     "end_time": "2020-01-07T09:02:02.411748Z",
     "start_time": "2020-01-07T09:02:02.281108Z"
    }
   },
   "outputs": [],
   "source": [
    "df.to_csv('단어유사도.csv')"
   ]
  }
 ],
 "metadata": {
  "kernelspec": {
   "display_name": "Python 3",
   "language": "python",
   "name": "python3"
  },
  "language_info": {
   "codemirror_mode": {
    "name": "ipython",
    "version": 3
   },
   "file_extension": ".py",
   "mimetype": "text/x-python",
   "name": "python",
   "nbconvert_exporter": "python",
   "pygments_lexer": "ipython3",
   "version": "3.6.4"
  },
  "toc": {
   "base_numbering": 1,
   "nav_menu": {},
   "number_sections": true,
   "sideBar": true,
   "skip_h1_title": false,
   "title_cell": "Table of Contents",
   "title_sidebar": "Contents",
   "toc_cell": false,
   "toc_position": {},
   "toc_section_display": true,
   "toc_window_display": false
  }
 },
 "nbformat": 4,
 "nbformat_minor": 2
}
