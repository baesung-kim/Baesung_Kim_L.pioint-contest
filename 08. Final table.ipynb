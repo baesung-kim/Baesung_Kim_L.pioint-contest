{
 "cells": [
  {
   "cell_type": "code",
   "execution_count": 1,
   "metadata": {
    "ExecuteTime": {
     "end_time": "2020-01-08T05:51:37.349288Z",
     "start_time": "2020-01-08T05:51:36.364704Z"
    }
   },
   "outputs": [],
   "source": [
    "import datetime, warnings, scipy \n",
    "import pandas as pd\n",
    "import numpy as np\n",
    "import seaborn as sns\n",
    "import matplotlib as mpl\n",
    "import matplotlib.pyplot as plt\n",
    "import matplotlib.patches as patches\n",
    "from matplotlib.patches import ConnectionPatch\n",
    "from collections import OrderedDict\n",
    "from matplotlib.gridspec import GridSpec\n",
    "from sklearn import metrics, linear_model\n",
    "from sklearn.preprocessing import PolynomialFeatures, StandardScaler\n",
    "from sklearn.preprocessing import LabelEncoder, OneHotEncoder\n",
    "from sklearn.model_selection import train_test_split, cross_val_score, cross_val_predict\n",
    "from scipy.optimize import curve_fit\n",
    "from datetime import datetime\n",
    "plt.rcParams[\"patch.force_edgecolor\"] = True\n",
    "plt.style.use('fivethirtyeight')\n",
    "mpl.rc('patch', edgecolor = 'dimgray', linewidth=1)\n",
    "from IPython.core.interactiveshell import InteractiveShell\n",
    "InteractiveShell.ast_node_interactivity = \"last_expr\"\n",
    "pd.options.display.max_columns = 50\n",
    "%matplotlib inline"
   ]
  },
  {
   "cell_type": "code",
   "execution_count": 2,
   "metadata": {
    "ExecuteTime": {
     "end_time": "2020-01-08T05:51:37.495209Z",
     "start_time": "2020-01-08T05:51:37.351984Z"
    }
   },
   "outputs": [],
   "source": [
    "신중도_labeling = pd.read_csv('신중도_labeling.csv', engine='python', encoding='utf-8-sig')\n",
    "습관도_labeling = pd.read_csv('습관도_labeling.csv', engine='python', encoding='utf-8-sig')\n",
    "충성도_labeling = pd.read_csv('충성도_labeling.csv', engine='python', encoding='utf-8-sig')"
   ]
  },
  {
   "cell_type": "code",
   "execution_count": 3,
   "metadata": {
    "ExecuteTime": {
     "end_time": "2020-01-08T05:52:44.940815Z",
     "start_time": "2020-01-08T05:52:44.770581Z"
    }
   },
   "outputs": [],
   "source": [
    "신중도_혜택 = pd.read_csv('신중도.csv', engine='python', encoding='utf-8-sig')\n",
    "습관도_혜택 = pd.read_csv('습관도.csv', engine='python', encoding='utf-8-sig')\n",
    "충성도_혜택 = pd.read_csv('충성도.csv', engine='python', encoding='utf-8-sig')"
   ]
  },
  {
   "cell_type": "code",
   "execution_count": 4,
   "metadata": {
    "ExecuteTime": {
     "end_time": "2020-01-08T05:51:38.074502Z",
     "start_time": "2020-01-08T05:51:38.014Z"
    }
   },
   "outputs": [],
   "source": [
    "#신중도_혜택.set_index('신중도', inplace=True)\n",
    "#습관도_혜택.set_index('습관도', inplace=True)\n",
    "#충성도_혜택.set_index('충성도', inplace=True)"
   ]
  },
  {
   "cell_type": "code",
   "execution_count": 5,
   "metadata": {},
   "outputs": [],
   "source": [
    "신중도_labeling.drop('Unnamed: 0', axis=1, inplace=True)\n",
    "습관도_labeling.drop('Unnamed: 0', axis=1, inplace=True)\n",
    "충성도_labeling.drop('Unnamed: 0', axis=1, inplace=True)"
   ]
  },
  {
   "cell_type": "code",
   "execution_count": 6,
   "metadata": {},
   "outputs": [],
   "source": [
    "신중도_labeling.columns = ['클라이언트ID', '시간집중도', '반복구매', '관심도', '시간집중도_Min/Max_Scale',\n",
    "       '반복구매_Min/Max_Scale', '관심도_Min/Max_Scale', 'predict', '신중도']\n",
    "습관도_labeling.columns = ['클라이언트ID', '시간집중도', '반복구매', '관심도', '시간집중도_Min/Max_Scale',\n",
    "       '반복구매_Min/Max_Scale', '관심도_Min/Max_Scale', 'predict', '습관도']\n",
    "충성도_labeling.columns = ['클라이언트ID', '시간집중도', '반복구매', '관심도', '시간집중도_Min/Max_Scale',\n",
    "       '반복구매_Min/Max_Scale', '관심도_Min/Max_Scale', 'predict', '충성도']"
   ]
  },
  {
   "cell_type": "code",
   "execution_count": 7,
   "metadata": {},
   "outputs": [
    {
     "data": {
      "text/html": [
       "<div>\n",
       "<style scoped>\n",
       "    .dataframe tbody tr th:only-of-type {\n",
       "        vertical-align: middle;\n",
       "    }\n",
       "\n",
       "    .dataframe tbody tr th {\n",
       "        vertical-align: top;\n",
       "    }\n",
       "\n",
       "    .dataframe thead th {\n",
       "        text-align: right;\n",
       "    }\n",
       "</style>\n",
       "<table border=\"1\" class=\"dataframe\">\n",
       "  <thead>\n",
       "    <tr style=\"text-align: right;\">\n",
       "      <th></th>\n",
       "      <th>습관도</th>\n",
       "      <th>혜택1</th>\n",
       "      <th>혜택2</th>\n",
       "      <th>혜택3</th>\n",
       "      <th>혜택4</th>\n",
       "      <th>혜택5</th>\n",
       "    </tr>\n",
       "  </thead>\n",
       "  <tbody>\n",
       "    <tr>\n",
       "      <th>0</th>\n",
       "      <td>습관도_A</td>\n",
       "      <td>0.114719</td>\n",
       "      <td>0.242424</td>\n",
       "      <td>0.188312</td>\n",
       "      <td>0.168831</td>\n",
       "      <td>0.285714</td>\n",
       "    </tr>\n",
       "    <tr>\n",
       "      <th>1</th>\n",
       "      <td>습관도_B</td>\n",
       "      <td>0.114286</td>\n",
       "      <td>0.231746</td>\n",
       "      <td>0.222222</td>\n",
       "      <td>0.142857</td>\n",
       "      <td>0.288889</td>\n",
       "    </tr>\n",
       "    <tr>\n",
       "      <th>2</th>\n",
       "      <td>습관도_C</td>\n",
       "      <td>0.130556</td>\n",
       "      <td>0.250000</td>\n",
       "      <td>0.216667</td>\n",
       "      <td>0.136111</td>\n",
       "      <td>0.266667</td>\n",
       "    </tr>\n",
       "    <tr>\n",
       "      <th>3</th>\n",
       "      <td>습관도_D</td>\n",
       "      <td>0.116667</td>\n",
       "      <td>0.183333</td>\n",
       "      <td>0.266667</td>\n",
       "      <td>0.150000</td>\n",
       "      <td>0.283333</td>\n",
       "    </tr>\n",
       "  </tbody>\n",
       "</table>\n",
       "</div>"
      ],
      "text/plain": [
       "     습관도       혜택1       혜택2       혜택3       혜택4       혜택5\n",
       "0  습관도_A  0.114719  0.242424  0.188312  0.168831  0.285714\n",
       "1  습관도_B  0.114286  0.231746  0.222222  0.142857  0.288889\n",
       "2  습관도_C  0.130556  0.250000  0.216667  0.136111  0.266667\n",
       "3  습관도_D  0.116667  0.183333  0.266667  0.150000  0.283333"
      ]
     },
     "execution_count": 7,
     "metadata": {},
     "output_type": "execute_result"
    }
   ],
   "source": [
    "습관도_혜택"
   ]
  },
  {
   "cell_type": "code",
   "execution_count": 8,
   "metadata": {},
   "outputs": [
    {
     "data": {
      "text/plain": [
       "3397"
      ]
     },
     "execution_count": 8,
     "metadata": {},
     "output_type": "execute_result"
    }
   ],
   "source": [
    "len(습관도_labeling)"
   ]
  },
  {
   "cell_type": "code",
   "execution_count": 9,
   "metadata": {},
   "outputs": [
    {
     "data": {
      "text/plain": [
       "8113"
      ]
     },
     "execution_count": 9,
     "metadata": {},
     "output_type": "execute_result"
    }
   ],
   "source": [
    "len(신중도_labeling)"
   ]
  },
  {
   "cell_type": "code",
   "execution_count": 10,
   "metadata": {},
   "outputs": [
    {
     "data": {
      "text/plain": [
       "8134"
      ]
     },
     "execution_count": 10,
     "metadata": {},
     "output_type": "execute_result"
    }
   ],
   "source": [
    "len(충성도_labeling)"
   ]
  },
  {
   "cell_type": "code",
   "execution_count": 11,
   "metadata": {},
   "outputs": [],
   "source": [
    "final=신중도_labeling.merge(습관도_labeling[['클라이언트ID', '습관도']], on = '클라이언트ID')\\\n",
    ".merge(충성도_labeling[['클라이언트ID', '충성도']], on = '클라이언트ID')"
   ]
  },
  {
   "cell_type": "code",
   "execution_count": 12,
   "metadata": {
    "scrolled": true
   },
   "outputs": [
    {
     "data": {
      "text/plain": [
       "1370"
      ]
     },
     "execution_count": 12,
     "metadata": {},
     "output_type": "execute_result"
    }
   ],
   "source": [
    "len(final)"
   ]
  },
  {
   "cell_type": "code",
   "execution_count": 13,
   "metadata": {},
   "outputs": [],
   "source": [
    "final=final.merge(신중도_혜택, on='신중도').merge(습관도_혜택, on='습관도').merge(충성도_혜택, on='충성도')"
   ]
  },
  {
   "cell_type": "code",
   "execution_count": 14,
   "metadata": {},
   "outputs": [],
   "source": [
    "final.혜택1 = final.혜택1_x + final.혜택1_y + final.혜택1\n",
    "final.혜택2 = final.혜택2_x + final.혜택2_y + final.혜택2\n",
    "final.혜택3 = final.혜택3_x + final.혜택3_y + final.혜택3\n",
    "final.혜택4 = final.혜택4_x + final.혜택4_y + final.혜택4\n",
    "final.혜택5 = final.혜택5_x + final.혜택5_y + final.혜택5"
   ]
  },
  {
   "cell_type": "code",
   "execution_count": 15,
   "metadata": {},
   "outputs": [],
   "source": [
    "final.drop(['혜택1_x', '혜택2_x', '혜택3_x', '혜택4_x', '혜택5_x', '혜택1_y', '혜택2_y',\n",
    "       '혜택3_y', '혜택4_y', '혜택5_y'], axis=1, inplace = True)"
   ]
  },
  {
   "cell_type": "code",
   "execution_count": 138,
   "metadata": {},
   "outputs": [],
   "source": [
    "# final.to_csv('final.csv')"
   ]
  }
 ],
 "metadata": {
  "kernelspec": {
   "display_name": "Python 3",
   "language": "python",
   "name": "python3"
  },
  "language_info": {
   "codemirror_mode": {
    "name": "ipython",
    "version": 3
   },
   "file_extension": ".py",
   "mimetype": "text/x-python",
   "name": "python",
   "nbconvert_exporter": "python",
   "pygments_lexer": "ipython3",
   "version": "3.6.4"
  },
  "toc": {
   "base_numbering": 1,
   "nav_menu": {},
   "number_sections": true,
   "sideBar": true,
   "skip_h1_title": false,
   "title_cell": "Table of Contents",
   "title_sidebar": "Contents",
   "toc_cell": false,
   "toc_position": {},
   "toc_section_display": true,
   "toc_window_display": false
  }
 },
 "nbformat": 4,
 "nbformat_minor": 2
}
