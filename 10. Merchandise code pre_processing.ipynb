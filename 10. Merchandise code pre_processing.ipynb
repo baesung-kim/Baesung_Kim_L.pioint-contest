{
 "cells": [
  {
   "cell_type": "code",
   "execution_count": 1,
   "metadata": {},
   "outputs": [],
   "source": [
    "import pandas as pd\n",
    "from pandas import Series, DataFrame\n",
    "import numpy as np"
   ]
  },
  {
   "cell_type": "code",
   "execution_count": 2,
   "metadata": {},
   "outputs": [],
   "source": [
    "온라인정보 = pd.read_csv(\"온라인 행동 정보.CSV\", engine = 'python', encoding = 'utf-8-sig')"
   ]
  },
  {
   "cell_type": "code",
   "execution_count": 3,
   "metadata": {},
   "outputs": [],
   "source": [
    "온라인정보.columns = ['클라이언트ID', '세션ID', '조회일련번호', '행동유형', '업종단위', \n",
    "                 '세션일자', '조회시각','조회경과시간', '거래ID', '검색 키워드',\n",
    "                '총페이지조회건수', '총세션시간값', '유입채널', '기기유형']"
   ]
  },
  {
   "cell_type": "code",
   "execution_count": 4,
   "metadata": {},
   "outputs": [],
   "source": [
    "# 결측치 처리\n",
    "\n",
    "온라인정보.drop(온라인정보[온라인정보['검색 키워드'].isnull() ==True].index, inplace = True)"
   ]
  },
  {
   "cell_type": "code",
   "execution_count": 5,
   "metadata": {},
   "outputs": [
    {
     "data": {
      "text/plain": [
       "클라이언트ID          0\n",
       "세션ID             0\n",
       "조회일련번호           0\n",
       "행동유형             0\n",
       "업종단위             0\n",
       "세션일자             0\n",
       "조회시각             0\n",
       "조회경과시간           0\n",
       "거래ID        651638\n",
       "검색 키워드           0\n",
       "총페이지조회건수         0\n",
       "총세션시간값        2296\n",
       "유입채널             0\n",
       "기기유형        303371\n",
       "dtype: int64"
      ]
     },
     "execution_count": 5,
     "metadata": {},
     "output_type": "execute_result"
    }
   ],
   "source": [
    "온라인정보.isnull().sum()"
   ]
  },
  {
   "cell_type": "code",
   "execution_count": 6,
   "metadata": {},
   "outputs": [],
   "source": [
    "import konlpy.tag\n",
    "import re"
   ]
  },
  {
   "cell_type": "code",
   "execution_count": 7,
   "metadata": {},
   "outputs": [],
   "source": [
    "검색어 = 온라인정보['검색 키워드'].tolist()"
   ]
  },
  {
   "cell_type": "code",
   "execution_count": 8,
   "metadata": {},
   "outputs": [],
   "source": [
    "from tqdm import tqdm"
   ]
  },
  {
   "cell_type": "code",
   "execution_count": 9,
   "metadata": {},
   "outputs": [
    {
     "name": "stderr",
     "output_type": "stream",
     "text": [
      "100%|██████████| 651638/651638 [00:01<00:00, 416638.33it/s]\n"
     ]
    }
   ],
   "source": [
    "# 대소문자바꾸기\n",
    "filtered = []\n",
    "for new in tqdm(검색어):\n",
    "    filtered.append(new.lower())"
   ]
  },
  {
   "cell_type": "code",
   "execution_count": 10,
   "metadata": {},
   "outputs": [
    {
     "name": "stderr",
     "output_type": "stream",
     "text": [
      "100%|██████████| 651638/651638 [00:04<00:00, 151637.00it/s]\n"
     ]
    }
   ],
   "source": [
    "# 띄어쓰기 지우기\n",
    "filtered2 = []\n",
    "for new in tqdm(filtered):\n",
    "    filtered2.append(re.sub(r'[\\s]','', new))"
   ]
  },
  {
   "cell_type": "code",
   "execution_count": 11,
   "metadata": {},
   "outputs": [
    {
     "name": "stderr",
     "output_type": "stream",
     "text": [
      "100%|██████████| 651638/651638 [00:04<00:00, 154146.37it/s]\n"
     ]
    }
   ],
   "source": [
    "# 엘지\n",
    "filtered3 = []\n",
    "for new in tqdm(filtered2):\n",
    "    filtered3.append(re.sub(r'lg','엘지', new))"
   ]
  },
  {
   "cell_type": "code",
   "execution_count": 12,
   "metadata": {},
   "outputs": [
    {
     "name": "stderr",
     "output_type": "stream",
     "text": [
      "100%|██████████| 651638/651638 [00:03<00:00, 170959.03it/s]\n"
     ]
    }
   ],
   "source": [
    "# 씨제이  \n",
    "filtered4 = []\n",
    "for new in tqdm(filtered3):\n",
    "    filtered4.append(re.sub(r'cj','씨제이', new))"
   ]
  },
  {
   "cell_type": "code",
   "execution_count": 13,
   "metadata": {},
   "outputs": [
    {
     "name": "stderr",
     "output_type": "stream",
     "text": [
      "100%|██████████| 651638/651638 [00:04<00:00, 152630.96it/s]\n"
     ]
    }
   ],
   "source": [
    "# 3m  # 명사먼저 바꿔주기 안그러면 숫자 다 지워짐....\n",
    "filtered5 = []\n",
    "for new in tqdm(filtered4):\n",
    "    filtered5.append(re.sub(r'3m','쓰리엠', new))"
   ]
  },
  {
   "cell_type": "code",
   "execution_count": 14,
   "metadata": {},
   "outputs": [
    {
     "name": "stderr",
     "output_type": "stream",
     "text": [
      "100%|██████████| 651638/651638 [00:04<00:00, 160719.69it/s]\n"
     ]
    }
   ],
   "source": [
    "# \n",
    "filtered6 = []\n",
    "for new in tqdm(filtered5):\n",
    "    filtered6.append(re.sub(r'14k','십사케이', new))"
   ]
  },
  {
   "cell_type": "code",
   "execution_count": 15,
   "metadata": {},
   "outputs": [
    {
     "name": "stderr",
     "output_type": "stream",
     "text": [
      "100%|██████████| 651638/651638 [00:03<00:00, 175420.83it/s]\n"
     ]
    }
   ],
   "source": [
    "# 3m  # 명사먼저 바꿔주기 안그러면 숫자 다 지워짐....\n",
    "filtered7= []\n",
    "for new in tqdm(filtered6):\n",
    "    filtered7.append(re.sub(r'1.5l','비전', new))"
   ]
  },
  {
   "cell_type": "code",
   "execution_count": 16,
   "metadata": {},
   "outputs": [
    {
     "name": "stderr",
     "output_type": "stream",
     "text": [
      "100%|██████████| 651638/651638 [00:03<00:00, 170601.70it/s]\n"
     ]
    }
   ],
   "source": [
    "# 3m  # 명사먼저 바꿔주기 안그러면 숫자 다 지워짐....\n",
    "filtered8 = []\n",
    "for new in tqdm(filtered7):\n",
    "    filtered8.append(re.sub(r'gs25','지에스이십오', new))"
   ]
  },
  {
   "cell_type": "code",
   "execution_count": 17,
   "metadata": {},
   "outputs": [
    {
     "name": "stderr",
     "output_type": "stream",
     "text": [
      "100%|██████████| 651638/651638 [00:04<00:00, 154146.41it/s]\n"
     ]
    }
   ],
   "source": [
    "# 3m  # 명사먼저 바꿔주기 안그러면 숫자 다 지워짐....\n",
    "filtered9 = []\n",
    "for new in tqdm(filtered8):\n",
    "    filtered9.append(re.sub(r'la갈비','엘에이갈비', new))"
   ]
  },
  {
   "cell_type": "code",
   "execution_count": 18,
   "metadata": {},
   "outputs": [
    {
     "name": "stderr",
     "output_type": "stream",
     "text": [
      "100%|██████████| 651638/651638 [00:04<00:00, 142584.45it/s]\n"
     ]
    }
   ],
   "source": [
    "# # sk2, vans, soup, ahc, k2맨투맨, sk2선크림, 기프티쇼 kfc, 아이시스, mcm, ml, l, innisfree, lap, sfit, tv, 18k, sm, uv, 삼성노트북9 always, fw, ss\n",
    "# mind bridge, kfx, mlb, s9, USB, omega, sn750\n",
    "filtered10 = []\n",
    "for new in tqdm(filtered9):\n",
    "    filtered10.append(re.sub(r'sk2','에스케이투', new))"
   ]
  },
  {
   "cell_type": "code",
   "execution_count": 19,
   "metadata": {},
   "outputs": [
    {
     "name": "stderr",
     "output_type": "stream",
     "text": [
      "100%|██████████| 651638/651638 [00:03<00:00, 172954.60it/s]\n"
     ]
    }
   ],
   "source": [
    "filtered11 = []\n",
    "for new in tqdm(filtered10):\n",
    "    filtered11.append(re.sub(r'vans','반스', new))"
   ]
  },
  {
   "cell_type": "code",
   "execution_count": 20,
   "metadata": {},
   "outputs": [
    {
     "name": "stderr",
     "output_type": "stream",
     "text": [
      "100%|██████████| 651638/651638 [00:03<00:00, 169185.17it/s]\n"
     ]
    }
   ],
   "source": [
    "filtered12 = []\n",
    "for new in tqdm(filtered11):\n",
    "    filtered12.append(re.sub(r'soup','스프', new))"
   ]
  },
  {
   "cell_type": "code",
   "execution_count": 21,
   "metadata": {},
   "outputs": [
    {
     "name": "stderr",
     "output_type": "stream",
     "text": [
      "100%|██████████| 651638/651638 [00:04<00:00, 157193.39it/s]\n"
     ]
    }
   ],
   "source": [
    "filtered13 = []\n",
    "for new in tqdm(filtered12):\n",
    "    filtered13.append(re.sub(r'ahc','에이에이치씨', new))"
   ]
  },
  {
   "cell_type": "code",
   "execution_count": 22,
   "metadata": {},
   "outputs": [
    {
     "name": "stderr",
     "output_type": "stream",
     "text": [
      "100%|██████████| 651638/651638 [00:03<00:00, 170690.81it/s]\n"
     ]
    }
   ],
   "source": [
    "filtered14 = []\n",
    "for new in tqdm(filtered13):\n",
    "    filtered14.append(re.sub(r'elle','엘르', new))"
   ]
  },
  {
   "cell_type": "code",
   "execution_count": 23,
   "metadata": {},
   "outputs": [
    {
     "name": "stderr",
     "output_type": "stream",
     "text": [
      "100%|██████████| 651638/651638 [00:03<00:00, 166847.56it/s]\n"
     ]
    }
   ],
   "source": [
    "filtered15 = []\n",
    "for new in tqdm(filtered14):\n",
    "    filtered15.append(re.sub(r'k2','케이투', new))"
   ]
  },
  {
   "cell_type": "code",
   "execution_count": 24,
   "metadata": {},
   "outputs": [
    {
     "name": "stderr",
     "output_type": "stream",
     "text": [
      "100%|██████████| 651638/651638 [00:03<00:00, 164531.34it/s]\n"
     ]
    }
   ],
   "source": [
    "filtered16 = []\n",
    "for new in tqdm(filtered15):\n",
    "    filtered16.append(re.sub(r'kfc','케이에프씨', new))"
   ]
  },
  {
   "cell_type": "code",
   "execution_count": 25,
   "metadata": {},
   "outputs": [
    {
     "name": "stderr",
     "output_type": "stream",
     "text": [
      "100%|██████████| 651638/651638 [00:04<00:00, 149790.75it/s]\n"
     ]
    }
   ],
   "source": [
    "filtered17 = []\n",
    "for new in tqdm(filtered16):\n",
    "    filtered17.append(re.sub(r'mcm','엠씨엠', new))"
   ]
  },
  {
   "cell_type": "code",
   "execution_count": 26,
   "metadata": {},
   "outputs": [
    {
     "name": "stderr",
     "output_type": "stream",
     "text": [
      "100%|██████████| 651638/651638 [00:04<00:00, 159461.56it/s]\n"
     ]
    }
   ],
   "source": [
    "filtered18 = []\n",
    "for new in tqdm(filtered17):\n",
    "    filtered18.append(re.sub(r'innisfree','이니스프리', new))"
   ]
  },
  {
   "cell_type": "code",
   "execution_count": 27,
   "metadata": {},
   "outputs": [
    {
     "name": "stderr",
     "output_type": "stream",
     "text": [
      "100%|██████████| 651638/651638 [00:03<00:00, 169096.90it/s]\n"
     ]
    }
   ],
   "source": [
    "# ap, sfit, tv, 18k, sm, uv, 삼성노트북9 always, fw, ss\n",
    "# mind bridge, kfx, mlb, s9, USB, omega, sn750\n",
    "filtered19 = []\n",
    "for new in tqdm(filtered18):\n",
    "    filtered19.append(re.sub(r'sfit','에스핏', new))"
   ]
  },
  {
   "cell_type": "code",
   "execution_count": 28,
   "metadata": {},
   "outputs": [
    {
     "name": "stderr",
     "output_type": "stream",
     "text": [
      "100%|██████████| 651638/651638 [00:03<00:00, 167964.56it/s]\n"
     ]
    }
   ],
   "source": [
    "filtered20 = []\n",
    "for new in tqdm(filtered19):\n",
    "    filtered20.append(re.sub(r'tv','티비', new))"
   ]
  },
  {
   "cell_type": "code",
   "execution_count": 29,
   "metadata": {},
   "outputs": [
    {
     "name": "stderr",
     "output_type": "stream",
     "text": [
      "100%|██████████| 651638/651638 [00:04<00:00, 139027.51it/s]\n"
     ]
    }
   ],
   "source": [
    "filtered21 = []\n",
    "for new in tqdm(filtered20):\n",
    "    filtered21.append(re.sub(r'18k','십팔케이', new))"
   ]
  },
  {
   "cell_type": "code",
   "execution_count": 30,
   "metadata": {},
   "outputs": [
    {
     "name": "stderr",
     "output_type": "stream",
     "text": [
      "100%|██████████| 651638/651638 [00:04<00:00, 137416.03it/s]\n"
     ]
    }
   ],
   "source": [
    "filtered22 = []\n",
    "for new in tqdm(filtered21):\n",
    "    filtered22.append(re.sub(r'mlb','엠엘비', new))"
   ]
  },
  {
   "cell_type": "code",
   "execution_count": 31,
   "metadata": {},
   "outputs": [
    {
     "name": "stderr",
     "output_type": "stream",
     "text": [
      "100%|██████████| 651638/651638 [00:04<00:00, 149378.67it/s]\n"
     ]
    }
   ],
   "source": [
    "filtered23 = []\n",
    "for new in tqdm(filtered22):\n",
    "    filtered23.append(re.sub(r'sm','에스엠', new))"
   ]
  },
  {
   "cell_type": "code",
   "execution_count": 32,
   "metadata": {},
   "outputs": [
    {
     "name": "stderr",
     "output_type": "stream",
     "text": [
      "100%|██████████| 651638/651638 [00:04<00:00, 157307.33it/s]\n"
     ]
    }
   ],
   "source": [
    "filtered24 = []\n",
    "for new in tqdm(filtered23):\n",
    "    filtered24.append(re.sub(r'xbox','엑스박스', new))"
   ]
  },
  {
   "cell_type": "code",
   "execution_count": 33,
   "metadata": {},
   "outputs": [
    {
     "name": "stderr",
     "output_type": "stream",
     "text": [
      "100%|██████████| 651638/651638 [00:04<00:00, 159852.53it/s]\n"
     ]
    }
   ],
   "source": [
    "filtered21 = []\n",
    "for new in tqdm(filtered20):\n",
    "    filtered21.append(re.sub(r'a.testoni','아테스토니', new))"
   ]
  },
  {
   "cell_type": "code",
   "execution_count": 34,
   "metadata": {},
   "outputs": [
    {
     "name": "stderr",
     "output_type": "stream",
     "text": [
      "100%|██████████| 651638/651638 [00:03<00:00, 173599.22it/s]\n"
     ]
    }
   ],
   "source": [
    "filtered22 = []\n",
    "for new in tqdm(filtered21):\n",
    "    filtered22.append(re.sub(r'omega','오메가', new))"
   ]
  },
  {
   "cell_type": "code",
   "execution_count": 35,
   "metadata": {},
   "outputs": [
    {
     "name": "stderr",
     "output_type": "stream",
     "text": [
      "100%|██████████| 651638/651638 [00:03<00:00, 177764.17it/s]\n"
     ]
    }
   ],
   "source": [
    "filtered23 = []\n",
    "for new in tqdm(filtered22):\n",
    "    filtered23.append(re.sub(r'mindbridge','마인드브릿지', new))"
   ]
  },
  {
   "cell_type": "code",
   "execution_count": 36,
   "metadata": {},
   "outputs": [
    {
     "name": "stderr",
     "output_type": "stream",
     "text": [
      "100%|██████████| 651638/651638 [00:04<00:00, 147320.15it/s]\n"
     ]
    }
   ],
   "source": [
    "\n",
    "filtered24 = []\n",
    "for new in tqdm(filtered23):\n",
    "    filtered24.append(re.sub(r'nfl','뉴에라', new))"
   ]
  },
  {
   "cell_type": "code",
   "execution_count": 37,
   "metadata": {},
   "outputs": [
    {
     "name": "stderr",
     "output_type": "stream",
     "text": [
      "100%|██████████| 651638/651638 [00:04<00:00, 153819.04it/s]\n"
     ]
    }
   ],
   "source": [
    "\n",
    "filtered25 = []\n",
    "for new in tqdm(filtered24):\n",
    "    filtered25.append(re.sub(r's9','에스나인', new))"
   ]
  },
  {
   "cell_type": "code",
   "execution_count": 38,
   "metadata": {},
   "outputs": [
    {
     "name": "stderr",
     "output_type": "stream",
     "text": [
      "100%|██████████| 651638/651638 [00:03<00:00, 165618.29it/s]\n"
     ]
    }
   ],
   "source": [
    "\n",
    "filtered26 = []\n",
    "for new in tqdm(filtered25):\n",
    "    filtered26.append(re.sub(r'dkny','디케이앤와이', new))"
   ]
  },
  {
   "cell_type": "code",
   "execution_count": 39,
   "metadata": {},
   "outputs": [
    {
     "name": "stderr",
     "output_type": "stream",
     "text": [
      "100%|██████████| 651638/651638 [00:03<00:00, 163009.56it/s]\n"
     ]
    }
   ],
   "source": [
    "\n",
    "filtered27 = []\n",
    "for new in tqdm(filtered26):\n",
    "    filtered27.append(re.sub(r'usb','유에스비', new))"
   ]
  },
  {
   "cell_type": "code",
   "execution_count": 40,
   "metadata": {},
   "outputs": [
    {
     "name": "stderr",
     "output_type": "stream",
     "text": [
      "100%|██████████| 651638/651638 [00:04<00:00, 134413.37it/s]\n"
     ]
    }
   ],
   "source": [
    "# mac, niceclaup, dewl, series\n",
    "\n",
    "filtered28 = []\n",
    "for new in tqdm(filtered27):\n",
    "    filtered28.append(re.sub(r'mac','맥', new))"
   ]
  },
  {
   "cell_type": "code",
   "execution_count": 41,
   "metadata": {},
   "outputs": [
    {
     "name": "stderr",
     "output_type": "stream",
     "text": [
      "100%|██████████| 651638/651638 [00:04<00:00, 157916.90it/s]\n"
     ]
    }
   ],
   "source": [
    "filtered29 = []\n",
    "for new in tqdm(filtered28):\n",
    "    filtered29.append(re.sub(r'dewl','드웰', new))"
   ]
  },
  {
   "cell_type": "code",
   "execution_count": 42,
   "metadata": {},
   "outputs": [
    {
     "name": "stderr",
     "output_type": "stream",
     "text": [
      "100%|██████████| 651638/651638 [00:03<00:00, 167619.32it/s]\n"
     ]
    }
   ],
   "source": [
    "filtered30 = []\n",
    "for new in tqdm(filtered29):\n",
    "    filtered30.append(re.sub(r'series','시리즈', new))"
   ]
  },
  {
   "cell_type": "code",
   "execution_count": 43,
   "metadata": {},
   "outputs": [
    {
     "name": "stderr",
     "output_type": "stream",
     "text": [
      "100%|██████████| 651638/651638 [00:03<00:00, 165913.23it/s]\n"
     ]
    }
   ],
   "source": [
    "filtered31 = []\n",
    "for new in tqdm(filtered30):\n",
    "    filtered31.append(re.sub(r'niceclaup','나이스클랍', new))"
   ]
  },
  {
   "cell_type": "code",
   "execution_count": 44,
   "metadata": {},
   "outputs": [
    {
     "name": "stderr",
     "output_type": "stream",
     "text": [
      "100%|██████████| 651638/651638 [00:04<00:00, 134802.32it/s]\n"
     ]
    }
   ],
   "source": [
    "filtered32 = []\n",
    "for new in tqdm(filtered31):\n",
    "    filtered32.append(re.sub(r'sapo','스파오', new))"
   ]
  },
  {
   "cell_type": "code",
   "execution_count": 45,
   "metadata": {},
   "outputs": [
    {
     "name": "stderr",
     "output_type": "stream",
     "text": [
      "100%|██████████| 651638/651638 [00:04<00:00, 156439.22it/s]\n"
     ]
    }
   ],
   "source": [
    "filtered33 = []\n",
    "for new in tqdm(filtered32):\n",
    "    filtered33.append(re.sub(r'andar','안다르', new))"
   ]
  },
  {
   "cell_type": "code",
   "execution_count": 46,
   "metadata": {},
   "outputs": [
    {
     "name": "stderr",
     "output_type": "stream",
     "text": [
      "100%|██████████| 651638/651638 [00:03<00:00, 166378.89it/s]\n"
     ]
    }
   ],
   "source": [
    "filtered34 = []\n",
    "for new in tqdm(filtered33):\n",
    "    filtered34.append(re.sub(r'asus','에이수스', new))"
   ]
  },
  {
   "cell_type": "code",
   "execution_count": 47,
   "metadata": {},
   "outputs": [
    {
     "name": "stderr",
     "output_type": "stream",
     "text": [
      "100%|██████████| 651638/651638 [00:04<00:00, 161275.86it/s]\n"
     ]
    }
   ],
   "source": [
    "filtered35 = []\n",
    "for new in tqdm(filtered34):\n",
    "    filtered35.append(re.sub(r'tbj','티비제이', new))"
   ]
  },
  {
   "cell_type": "code",
   "execution_count": 48,
   "metadata": {},
   "outputs": [
    {
     "name": "stderr",
     "output_type": "stream",
     "text": [
      "100%|██████████| 651638/651638 [00:04<00:00, 156928.80it/s]\n"
     ]
    }
   ],
   "source": [
    "# #ab.plus(에이비플러스), ab.f.z(에이비에프지), drgroot(닥터그루트), dhc, pepsi, pepssi, onlyprice, abc, halotop(헤일로 탑)\n",
    "filtered36 = []\n",
    "for new in tqdm(filtered35):\n",
    "    filtered36.append(re.sub(r'ab.plus','에이비플러스', new))"
   ]
  },
  {
   "cell_type": "code",
   "execution_count": 49,
   "metadata": {},
   "outputs": [
    {
     "name": "stderr",
     "output_type": "stream",
     "text": [
      "100%|██████████| 651638/651638 [00:03<00:00, 170467.76it/s]\n"
     ]
    }
   ],
   "source": [
    "# 문자 아닌거 지우기\n",
    "filtered37 = []\n",
    "for new in tqdm(filtered36):\n",
    "    filtered37.append(re.sub(r'ab.f.z','에이비에프지', new))"
   ]
  },
  {
   "cell_type": "code",
   "execution_count": 50,
   "metadata": {},
   "outputs": [
    {
     "name": "stderr",
     "output_type": "stream",
     "text": [
      "100%|██████████| 651638/651638 [00:03<00:00, 170156.14it/s]\n"
     ]
    }
   ],
   "source": [
    "# 문자 아닌거 지우기\n",
    "filtered38 = []\n",
    "for new in tqdm(filtered37):\n",
    "    filtered38.append(re.sub(r'drgroot','닥터그루트', new))"
   ]
  },
  {
   "cell_type": "code",
   "execution_count": 51,
   "metadata": {},
   "outputs": [
    {
     "name": "stderr",
     "output_type": "stream",
     "text": [
      "100%|██████████| 651638/651638 [00:04<00:00, 162279.50it/s]\n"
     ]
    }
   ],
   "source": [
    "# 문자 아닌거 지우기\n",
    "filtered39 = []\n",
    "for new in tqdm(filtered38):\n",
    "    filtered39.append(re.sub(r'dhc','디에이치씨', new))"
   ]
  },
  {
   "cell_type": "code",
   "execution_count": 52,
   "metadata": {},
   "outputs": [
    {
     "name": "stderr",
     "output_type": "stream",
     "text": [
      "100%|██████████| 651638/651638 [00:04<00:00, 156815.56it/s]\n"
     ]
    }
   ],
   "source": [
    "# 문자 아닌거 지우기\n",
    "filtered40 = []\n",
    "for new in tqdm(filtered39):\n",
    "    filtered40.append(re.sub(r'pepsi','펩시', new))"
   ]
  },
  {
   "cell_type": "code",
   "execution_count": 53,
   "metadata": {},
   "outputs": [
    {
     "name": "stderr",
     "output_type": "stream",
     "text": [
      "100%|██████████| 651638/651638 [00:04<00:00, 162887.59it/s]\n"
     ]
    }
   ],
   "source": [
    "# 문자 아닌거 지우기\n",
    "filtered41 = []\n",
    "for new in tqdm(filtered40):\n",
    "    filtered41.append(re.sub(r'onlyprice','온리프라이스', new))"
   ]
  },
  {
   "cell_type": "code",
   "execution_count": 54,
   "metadata": {},
   "outputs": [
    {
     "name": "stderr",
     "output_type": "stream",
     "text": [
      "100%|██████████| 651638/651638 [00:04<00:00, 154768.07it/s]\n"
     ]
    }
   ],
   "source": [
    "# 문자 아닌거 지우기\n",
    "filtered42 = []\n",
    "for new in tqdm(filtered41):\n",
    "    filtered42.append(re.sub(r'abc','에이비씨', new))"
   ]
  },
  {
   "cell_type": "code",
   "execution_count": 55,
   "metadata": {},
   "outputs": [
    {
     "name": "stderr",
     "output_type": "stream",
     "text": [
      "100%|██████████| 651638/651638 [00:04<00:00, 156928.76it/s]\n"
     ]
    }
   ],
   "source": [
    "# 문자 아닌거 지우기\n",
    "filtered43 = []\n",
    "for new in tqdm(filtered42):\n",
    "    filtered43.append(re.sub(r'halotop','헤일로탑', new))"
   ]
  },
  {
   "cell_type": "code",
   "execution_count": 56,
   "metadata": {},
   "outputs": [
    {
     "name": "stderr",
     "output_type": "stream",
     "text": [
      "100%|██████████| 651638/651638 [00:04<00:00, 133014.93it/s]\n"
     ]
    }
   ],
   "source": [
    "# # cherry, blackberry, 0kcal, nnf, 100%, PB, TOP, DOLE,%\n",
    "filtered44 = []\n",
    "for new in tqdm(filtered43):\n",
    "    filtered44.append(re.sub(r'%','퍼센트', new))"
   ]
  },
  {
   "cell_type": "code",
   "execution_count": 57,
   "metadata": {},
   "outputs": [
    {
     "name": "stderr",
     "output_type": "stream",
     "text": [
      "100%|██████████| 651638/651638 [00:06<00:00, 105696.03it/s]\n"
     ]
    }
   ],
   "source": [
    "# 문자 아닌거 지우기\n",
    "filtered45 = []\n",
    "for new in tqdm(filtered44):\n",
    "    filtered45.append(re.sub(r'kg','키로', new))"
   ]
  },
  {
   "cell_type": "code",
   "execution_count": 58,
   "metadata": {},
   "outputs": [
    {
     "name": "stderr",
     "output_type": "stream",
     "text": [
      "100%|██████████| 651638/651638 [00:05<00:00, 114392.78it/s]\n"
     ]
    }
   ],
   "source": [
    "# 문자 아닌거 지우기\n",
    "filtered46 = []\n",
    "for new in tqdm(filtered45):\n",
    "    filtered46.append(re.sub(r'l','리터', new))"
   ]
  },
  {
   "cell_type": "code",
   "execution_count": 59,
   "metadata": {},
   "outputs": [
    {
     "name": "stderr",
     "output_type": "stream",
     "text": [
      "100%|██████████| 651638/651638 [00:04<00:00, 146361.04it/s]\n"
     ]
    }
   ],
   "source": [
    "# 문자 아닌거 지우기\n",
    "filtered47 = []\n",
    "for new in tqdm(filtered46):\n",
    "    filtered47.append(re.sub(r'berry','베리', new))"
   ]
  },
  {
   "cell_type": "code",
   "execution_count": 60,
   "metadata": {},
   "outputs": [
    {
     "name": "stderr",
     "output_type": "stream",
     "text": [
      "100%|██████████| 651638/651638 [00:04<00:00, 135587.05it/s]\n"
     ]
    }
   ],
   "source": [
    "# 문자 아닌거 지우기\n",
    "filtered48 = []\n",
    "for new in tqdm(filtered47):\n",
    "    filtered48.append(re.sub(r'kcal','칼로리', new))"
   ]
  },
  {
   "cell_type": "code",
   "execution_count": 61,
   "metadata": {},
   "outputs": [
    {
     "name": "stderr",
     "output_type": "stream",
     "text": [
      "100%|██████████| 651638/651638 [00:05<00:00, 110665.13it/s]\n"
     ]
    }
   ],
   "source": [
    "# 문자 아닌거 지우기\n",
    "filtered49 = []\n",
    "for new in tqdm(filtered48):\n",
    "    filtered49.append(re.sub(r'nnf','엔엔에프', new))"
   ]
  },
  {
   "cell_type": "code",
   "execution_count": 62,
   "metadata": {},
   "outputs": [
    {
     "name": "stderr",
     "output_type": "stream",
     "text": [
      "100%|██████████| 651638/651638 [00:04<00:00, 136609.78it/s]\n"
     ]
    }
   ],
   "source": [
    "# 문자 아닌거 지우기\n",
    "filtered50 = []\n",
    "for new in tqdm(filtered49):\n",
    "    filtered50.append(re.sub(r'kcal','칼로리', new))"
   ]
  },
  {
   "cell_type": "code",
   "execution_count": 63,
   "metadata": {},
   "outputs": [
    {
     "name": "stderr",
     "output_type": "stream",
     "text": [
      "100%|██████████| 651638/651638 [00:04<00:00, 147453.44it/s]\n"
     ]
    }
   ],
   "source": [
    "# 문자 아닌거 지우기\n",
    "filtered51 = []\n",
    "for new in tqdm(filtered50):\n",
    "    filtered51.append(re.sub(r'top','탑', new))"
   ]
  },
  {
   "cell_type": "code",
   "execution_count": 64,
   "metadata": {},
   "outputs": [
    {
     "name": "stderr",
     "output_type": "stream",
     "text": [
      "100%|██████████| 651638/651638 [00:03<00:00, 173645.46it/s]\n"
     ]
    }
   ],
   "source": [
    "# 문자 아닌거 지우기\n",
    "filtered52 = []\n",
    "for new in tqdm(filtered51):\n",
    "    filtered52.append(re.sub(r'dole','돌', new))"
   ]
  },
  {
   "cell_type": "code",
   "execution_count": 65,
   "metadata": {},
   "outputs": [
    {
     "name": "stderr",
     "output_type": "stream",
     "text": [
      "100%|██████████| 651638/651638 [00:04<00:00, 133778.94it/s]\n"
     ]
    }
   ],
   "source": [
    "# 문자 아닌거 지우기\n",
    "filtered53 = []\n",
    "for new in tqdm(filtered52):\n",
    "    filtered53.append(re.sub(r'jeep','지프', new))"
   ]
  },
  {
   "cell_type": "code",
   "execution_count": 66,
   "metadata": {},
   "outputs": [
    {
     "name": "stderr",
     "output_type": "stream",
     "text": [
      "100%|██████████| 651638/651638 [00:04<00:00, 160878.12it/s]\n"
     ]
    }
   ],
   "source": [
    "filtered54 = []\n",
    "for new in tqdm(filtered53):\n",
    "    filtered54.append(re.sub(r'mixxo','미쏘', new))"
   ]
  },
  {
   "cell_type": "code",
   "execution_count": 67,
   "metadata": {},
   "outputs": [
    {
     "name": "stderr",
     "output_type": "stream",
     "text": [
      "100%|██████████| 651638/651638 [00:04<00:00, 136495.51it/s]\n"
     ]
    }
   ],
   "source": [
    "filtered55 = []\n",
    "for new in tqdm(filtered54):\n",
    "    filtered55.append(re.sub(r'ziozia','지오지아', new))"
   ]
  },
  {
   "cell_type": "code",
   "execution_count": 68,
   "metadata": {},
   "outputs": [
    {
     "name": "stderr",
     "output_type": "stream",
     "text": [
      "100%|██████████| 651638/651638 [00:04<00:00, 153276.69it/s]\n"
     ]
    }
   ],
   "source": [
    "filtered56 = []\n",
    "for new in tqdm(filtered55):\n",
    "    filtered56.append(re.sub(r'skii','에스케이투', new))"
   ]
  },
  {
   "cell_type": "code",
   "execution_count": 69,
   "metadata": {},
   "outputs": [
    {
     "name": "stderr",
     "output_type": "stream",
     "text": [
      "100%|██████████| 651638/651638 [00:04<00:00, 151320.17it/s]\n"
     ]
    }
   ],
   "source": [
    "filtered57 = []\n",
    "for new in tqdm(filtered56):\n",
    "    filtered57.append(re.sub(r'nike','나이키', new))"
   ]
  },
  {
   "cell_type": "code",
   "execution_count": 70,
   "metadata": {},
   "outputs": [
    {
     "name": "stderr",
     "output_type": "stream",
     "text": [
      "100%|██████████| 651638/651638 [00:03<00:00, 163459.31it/s]\n"
     ]
    }
   ],
   "source": [
    "filtered58 = []\n",
    "for new in tqdm(filtered57):\n",
    "    filtered58.append(re.sub(r'azh','에이제트에이치', new))"
   ]
  },
  {
   "cell_type": "code",
   "execution_count": 71,
   "metadata": {},
   "outputs": [
    {
     "name": "stderr",
     "output_type": "stream",
     "text": [
      "100%|██████████| 651638/651638 [00:03<00:00, 167921.18it/s]\n"
     ]
    }
   ],
   "source": [
    "filtered59 = []\n",
    "for new in tqdm(filtered58):\n",
    "    filtered59.append(re.sub(r'ck','캘빈클라인', new))"
   ]
  },
  {
   "cell_type": "code",
   "execution_count": 72,
   "metadata": {},
   "outputs": [
    {
     "name": "stderr",
     "output_type": "stream",
     "text": [
      "100%|██████████| 651638/651638 [00:03<00:00, 164656.32it/s]\n"
     ]
    }
   ],
   "source": [
    "filtered60 = []\n",
    "for new in tqdm(filtered59):\n",
    "    filtered60.append(re.sub(r'theory','띠어리', new))"
   ]
  },
  {
   "cell_type": "code",
   "execution_count": 73,
   "metadata": {},
   "outputs": [
    {
     "name": "stderr",
     "output_type": "stream",
     "text": [
      "100%|██████████| 651638/651638 [00:03<00:00, 172314.77it/s]\n"
     ]
    }
   ],
   "source": [
    "filtered61 = []\n",
    "for new in tqdm(filtered60):\n",
    "    filtered61.append(re.sub(r'armani','알마니', new))"
   ]
  },
  {
   "cell_type": "code",
   "execution_count": 74,
   "metadata": {},
   "outputs": [
    {
     "name": "stderr",
     "output_type": "stream",
     "text": [
      "100%|██████████| 651638/651638 [00:04<00:00, 152167.80it/s]\n"
     ]
    }
   ],
   "source": [
    "filtered62 = []\n",
    "for new in tqdm(filtered61):\n",
    "    filtered62.append(re.sub(r'3ce','쓰리씨이', new))"
   ]
  },
  {
   "cell_type": "code",
   "execution_count": 75,
   "metadata": {},
   "outputs": [
    {
     "name": "stderr",
     "output_type": "stream",
     "text": [
      "100%|██████████| 651638/651638 [00:04<00:00, 160759.02it/s]\n"
     ]
    }
   ],
   "source": [
    "# 문자 아닌거 지우기\n",
    "filtered63 = []\n",
    "for new in tqdm(filtered62):\n",
    "    filtered63.append(re.sub(r'[\\W]','', new))"
   ]
  },
  {
   "cell_type": "code",
   "execution_count": 76,
   "metadata": {},
   "outputs": [],
   "source": [
    "# naf(강아지사료), jeep, ck, azh, mixxo, ziozia, skii, nike, 3ce, theory, armani\n"
   ]
  },
  {
   "cell_type": "code",
   "execution_count": null,
   "metadata": {},
   "outputs": [],
   "source": []
  },
  {
   "cell_type": "code",
   "execution_count": 77,
   "metadata": {},
   "outputs": [],
   "source": [
    "온라인정보['filtered'] =filtered63"
   ]
  },
  {
   "cell_type": "code",
   "execution_count": 78,
   "metadata": {},
   "outputs": [],
   "source": [
    "# 키워드가 한개이면 오타로 간주\n",
    "\n",
    "키워드한개 = 온라인정보[온라인정보['검색 키워드'].isin(['a', 'b', 'c', 'd', 'e', 'f', 'g', 'h', 'i', 'j', 'k', 'l', 'm', 'n', 'o', 'p', 'q', 'r', 's', 't', 'u', 'v', 'w', 'x', 'y', 'z'])==True].index"
   ]
  },
  {
   "cell_type": "code",
   "execution_count": 79,
   "metadata": {},
   "outputs": [],
   "source": [
    "온라인정보.drop(키워드한개, inplace = True)"
   ]
  },
  {
   "cell_type": "code",
   "execution_count": 80,
   "metadata": {},
   "outputs": [],
   "source": [
    "# 진짜 오타 삭제\n",
    "온라인정보. drop(온라인정보[온라인정보['filtered'] ==''].index, inplace = True)"
   ]
  },
  {
   "cell_type": "code",
   "execution_count": 81,
   "metadata": {},
   "outputs": [],
   "source": [
    "검색어2 = 온라인정보['filtered'].tolist()"
   ]
  },
  {
   "cell_type": "code",
   "execution_count": 82,
   "metadata": {},
   "outputs": [
    {
     "name": "stderr",
     "output_type": "stream",
     "text": [
      "100%|██████████| 651577/651577 [00:06<00:00, 105293.60it/s]\n"
     ]
    }
   ],
   "source": [
    "# 알파벳지우기\n",
    "검색어3 = []\n",
    "for new in tqdm(검색어2):\n",
    "    검색어3.append(re.sub(r'[a-z]','', new))"
   ]
  },
  {
   "cell_type": "code",
   "execution_count": 83,
   "metadata": {},
   "outputs": [
    {
     "name": "stderr",
     "output_type": "stream",
     "text": [
      "100%|██████████| 651577/651577 [00:05<00:00, 122116.12it/s]\n"
     ]
    }
   ],
   "source": [
    "# 숫자 지우기\n",
    "검색어4 = []\n",
    "for new in tqdm(검색어3):\n",
    "    검색어4.append(re.sub(r'[\\d]','', new))"
   ]
  },
  {
   "cell_type": "code",
   "execution_count": 84,
   "metadata": {},
   "outputs": [],
   "source": [
    "온라인정보['filtered2'] =검색어4"
   ]
  },
  {
   "cell_type": "code",
   "execution_count": 87,
   "metadata": {},
   "outputs": [],
   "source": [
    "거래정보 = pd.read_csv(\"거래 정보.CSV\", engine = 'python')"
   ]
  },
  {
   "cell_type": "code",
   "execution_count": 88,
   "metadata": {},
   "outputs": [],
   "source": [
    "거래정보.columns = ['클라이언트ID', '거래ID', '거래일련번호', '업종단위', '상품소분류코드', '구매일자', '구매시각', '구매금액', '구매수량']"
   ]
  },
  {
   "cell_type": "code",
   "execution_count": 92,
   "metadata": {},
   "outputs": [
    {
     "data": {
      "text/html": [
       "<div>\n",
       "<style scoped>\n",
       "    .dataframe tbody tr th:only-of-type {\n",
       "        vertical-align: middle;\n",
       "    }\n",
       "\n",
       "    .dataframe tbody tr th {\n",
       "        vertical-align: top;\n",
       "    }\n",
       "\n",
       "    .dataframe thead th {\n",
       "        text-align: right;\n",
       "    }\n",
       "</style>\n",
       "<table border=\"1\" class=\"dataframe\">\n",
       "  <thead>\n",
       "    <tr style=\"text-align: right;\">\n",
       "      <th></th>\n",
       "      <th>클라이언트ID</th>\n",
       "      <th>세션ID</th>\n",
       "      <th>조회일련번호</th>\n",
       "      <th>행동유형</th>\n",
       "      <th>업종단위</th>\n",
       "      <th>세션일자</th>\n",
       "      <th>조회시각</th>\n",
       "      <th>조회경과시간</th>\n",
       "      <th>거래ID</th>\n",
       "      <th>검색 키워드</th>\n",
       "      <th>총페이지조회건수</th>\n",
       "      <th>총세션시간값</th>\n",
       "      <th>유입채널</th>\n",
       "      <th>기기유형</th>\n",
       "      <th>filtered</th>\n",
       "      <th>filtered2</th>\n",
       "    </tr>\n",
       "  </thead>\n",
       "  <tbody>\n",
       "    <tr>\n",
       "      <th>2544724</th>\n",
       "      <td>30605</td>\n",
       "      <td>16</td>\n",
       "      <td>1</td>\n",
       "      <td>0</td>\n",
       "      <td>A03</td>\n",
       "      <td>20190907</td>\n",
       "      <td>22:04</td>\n",
       "      <td>14548</td>\n",
       "      <td>NaN</td>\n",
       "      <td>버터</td>\n",
       "      <td>3.0</td>\n",
       "      <td>39.0</td>\n",
       "      <td>DIRECT</td>\n",
       "      <td>NaN</td>\n",
       "      <td>버터</td>\n",
       "      <td>버터</td>\n",
       "    </tr>\n",
       "    <tr>\n",
       "      <th>2544725</th>\n",
       "      <td>30605</td>\n",
       "      <td>12</td>\n",
       "      <td>2</td>\n",
       "      <td>0</td>\n",
       "      <td>A03</td>\n",
       "      <td>20190821</td>\n",
       "      <td>23:36</td>\n",
       "      <td>422952</td>\n",
       "      <td>NaN</td>\n",
       "      <td>카누</td>\n",
       "      <td>5.0</td>\n",
       "      <td>467.0</td>\n",
       "      <td>DIRECT</td>\n",
       "      <td>NaN</td>\n",
       "      <td>카누</td>\n",
       "      <td>카누</td>\n",
       "    </tr>\n",
       "    <tr>\n",
       "      <th>2544726</th>\n",
       "      <td>30605</td>\n",
       "      <td>13</td>\n",
       "      <td>1</td>\n",
       "      <td>0</td>\n",
       "      <td>A03</td>\n",
       "      <td>20190822</td>\n",
       "      <td>14:47</td>\n",
       "      <td>0</td>\n",
       "      <td>NaN</td>\n",
       "      <td>카누</td>\n",
       "      <td>1.0</td>\n",
       "      <td>NaN</td>\n",
       "      <td>DIRECT</td>\n",
       "      <td>NaN</td>\n",
       "      <td>카누</td>\n",
       "      <td>카누</td>\n",
       "    </tr>\n",
       "    <tr>\n",
       "      <th>2544727</th>\n",
       "      <td>28304</td>\n",
       "      <td>1</td>\n",
       "      <td>13</td>\n",
       "      <td>0</td>\n",
       "      <td>A03</td>\n",
       "      <td>20190716</td>\n",
       "      <td>11:36</td>\n",
       "      <td>933562</td>\n",
       "      <td>NaN</td>\n",
       "      <td>비비고만두</td>\n",
       "      <td>56.0</td>\n",
       "      <td>1303.0</td>\n",
       "      <td>PUSH</td>\n",
       "      <td>mobile_web</td>\n",
       "      <td>비비고만두</td>\n",
       "      <td>비비고만두</td>\n",
       "    </tr>\n",
       "    <tr>\n",
       "      <th>2544728</th>\n",
       "      <td>28304</td>\n",
       "      <td>1</td>\n",
       "      <td>11</td>\n",
       "      <td>0</td>\n",
       "      <td>A03</td>\n",
       "      <td>20190716</td>\n",
       "      <td>11:35</td>\n",
       "      <td>820901</td>\n",
       "      <td>NaN</td>\n",
       "      <td>어묵</td>\n",
       "      <td>56.0</td>\n",
       "      <td>1303.0</td>\n",
       "      <td>PUSH</td>\n",
       "      <td>mobile_web</td>\n",
       "      <td>어묵</td>\n",
       "      <td>어묵</td>\n",
       "    </tr>\n",
       "  </tbody>\n",
       "</table>\n",
       "</div>"
      ],
      "text/plain": [
       "         클라이언트ID  세션ID  조회일련번호  행동유형 업종단위      세션일자   조회시각  조회경과시간  거래ID  \\\n",
       "2544724    30605    16       1     0  A03  20190907  22:04   14548   NaN   \n",
       "2544725    30605    12       2     0  A03  20190821  23:36  422952   NaN   \n",
       "2544726    30605    13       1     0  A03  20190822  14:47       0   NaN   \n",
       "2544727    28304     1      13     0  A03  20190716  11:36  933562   NaN   \n",
       "2544728    28304     1      11     0  A03  20190716  11:35  820901   NaN   \n",
       "\n",
       "        검색 키워드  총페이지조회건수  총세션시간값    유입채널        기기유형 filtered filtered2  \n",
       "2544724     버터       3.0    39.0  DIRECT         NaN       버터        버터  \n",
       "2544725     카누       5.0   467.0  DIRECT         NaN       카누        카누  \n",
       "2544726     카누       1.0     NaN  DIRECT         NaN       카누        카누  \n",
       "2544727  비비고만두      56.0  1303.0    PUSH  mobile_web    비비고만두     비비고만두  \n",
       "2544728     어묵      56.0  1303.0    PUSH  mobile_web       어묵        어묵  "
      ]
     },
     "execution_count": 92,
     "metadata": {},
     "output_type": "execute_result"
    }
   ],
   "source": [
    "온라인정보.head()"
   ]
  },
  {
   "cell_type": "code",
   "execution_count": 95,
   "metadata": {},
   "outputs": [],
   "source": [
    "상품코드개수 = 온라인정보[온라인정보['filtered2'] == ''].pivot_table(index = ['클라이언트ID','세션ID'], aggfunc = 'count', values = 'filtered2').reset_index()"
   ]
  },
  {
   "cell_type": "code",
   "execution_count": 99,
   "metadata": {},
   "outputs": [],
   "source": [
    "상품코드개수final = 온라인정보[온라인정보['filtered2'] == ''].pivot_table(index = ['클라이언트ID'], aggfunc = 'count', values = 'filtered2').reset_index()"
   ]
  },
  {
   "cell_type": "code",
   "execution_count": 100,
   "metadata": {},
   "outputs": [],
   "source": [
    "상품코드개수final.to_csv('상품코드개수final.csv', encoding = 'utf-8')"
   ]
  },
  {
   "cell_type": "code",
   "execution_count": null,
   "metadata": {},
   "outputs": [],
   "source": [
    "# 상품코드/검색어 개수"
   ]
  },
  {
   "cell_type": "code",
   "execution_count": 89,
   "metadata": {},
   "outputs": [],
   "source": [
    "상품코드클라이언트ID = 온라인정보[온라인정보['filtered2'] == '']['클라이언트ID'].unique()"
   ]
  },
  {
   "cell_type": "code",
   "execution_count": 90,
   "metadata": {},
   "outputs": [
    {
     "data": {
      "text/plain": [
       "0.5917673716012085"
      ]
     },
     "execution_count": 90,
     "metadata": {},
     "output_type": "execute_result"
    }
   ],
   "source": [
    "# 상품코드를 치고 구매까지 이어진 사람/상품코드만 친 사람\n",
    "\n",
    "len(거래정보.loc[상품코드클라이언트ID]['클라이언트ID'].unique())/len(온라인정보[온라인정보['filtered2'] == '']['클라이언트ID'].unique())"
   ]
  },
  {
   "cell_type": "code",
   "execution_count": 91,
   "metadata": {},
   "outputs": [],
   "source": [
    "온라인정보.drop(온라인정보[온라인정보['filtered2'] == ''].index, inplace = True)"
   ]
  },
  {
   "cell_type": "code",
   "execution_count": 97,
   "metadata": {},
   "outputs": [
    {
     "data": {
      "text/plain": [
       "37874"
      ]
     },
     "execution_count": 97,
     "metadata": {},
     "output_type": "execute_result"
    }
   ],
   "source": [
    "len(온라인정보['클라이언트ID'].unique())"
   ]
  },
  {
   "cell_type": "code",
   "execution_count": 101,
   "metadata": {},
   "outputs": [
    {
     "data": {
      "text/plain": [
       "3637"
      ]
     },
     "execution_count": 101,
     "metadata": {},
     "output_type": "execute_result"
    }
   ],
   "source": [
    "len(거래정보.loc[온라인정보['클라이언트ID'].unique()]['클라이언트ID'].unique())"
   ]
  },
  {
   "cell_type": "code",
   "execution_count": 103,
   "metadata": {},
   "outputs": [
    {
     "data": {
      "text/plain": [
       "0.0960289380577705"
      ]
     },
     "execution_count": 103,
     "metadata": {},
     "output_type": "execute_result"
    }
   ],
   "source": [
    "# 검색어를 치고 구매까지 이어진 사람/검색어만 친 사람\n",
    "\n",
    "len(거래정보.loc[온라인정보['클라이언트ID'].unique()]['클라이언트ID'].unique())/len(온라인정보['클라이언트ID'].unique())"
   ]
  },
  {
   "cell_type": "code",
   "execution_count": null,
   "metadata": {},
   "outputs": [],
   "source": [
    "#ab.plus(에이비플러스), ab.f.z(에이비에프지), drgroot(닥터그루트), dhc, pepsi, pepssi, onlyprice, abc, halotop(헤일로 탑)\n",
    "# cherry, blackberry, 0kcal, nnf, 100%, PB, TOP, DOLE,%"
   ]
  }
 ],
 "metadata": {
  "kernelspec": {
   "display_name": "Python 3",
   "language": "python",
   "name": "python3"
  },
  "language_info": {
   "codemirror_mode": {
    "name": "ipython",
    "version": 3
   },
   "file_extension": ".py",
   "mimetype": "text/x-python",
   "name": "python",
   "nbconvert_exporter": "python",
   "pygments_lexer": "ipython3",
   "version": "3.6.4"
  }
 },
 "nbformat": 4,
 "nbformat_minor": 2
}
