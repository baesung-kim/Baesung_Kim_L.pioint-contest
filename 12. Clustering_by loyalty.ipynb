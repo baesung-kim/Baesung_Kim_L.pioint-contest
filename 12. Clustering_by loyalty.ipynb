{
 "cells": [
  {
   "cell_type": "code",
   "execution_count": 1,
   "metadata": {},
   "outputs": [],
   "source": [
    "import pandas as pd\n",
    "from pandas import Series, DataFrame\n",
    "import numpy as np"
   ]
  },
  {
   "cell_type": "code",
   "execution_count": 2,
   "metadata": {},
   "outputs": [],
   "source": [
    "관심도 = pd.read_csv(\"관심도.CSV\", engine = 'python', encoding = 'utf-8-sig')"
   ]
  },
  {
   "cell_type": "code",
   "execution_count": 4,
   "metadata": {},
   "outputs": [],
   "source": [
    "거래정보 = pd.read_csv(\"거래 정보.CSV\", engine = 'python')"
   ]
  },
  {
   "cell_type": "code",
   "execution_count": 5,
   "metadata": {},
   "outputs": [],
   "source": [
    "거래정보.columns = ['클라이언트ID', '거래ID', '거래일련번호', '업종단위', '상품소분류코드', '구매일자', '구매시각', '구매금액', '구매수량']"
   ]
  },
  {
   "cell_type": "code",
   "execution_count": 6,
   "metadata": {},
   "outputs": [],
   "source": [
    "상품코드개수final = pd.read_csv(\"상품코드개수final.CSV\", engine = 'python', encoding = 'utf-8')"
   ]
  },
  {
   "cell_type": "code",
   "execution_count": 7,
   "metadata": {},
   "outputs": [
    {
     "data": {
      "text/html": [
       "<div>\n",
       "<style scoped>\n",
       "    .dataframe tbody tr th:only-of-type {\n",
       "        vertical-align: middle;\n",
       "    }\n",
       "\n",
       "    .dataframe tbody tr th {\n",
       "        vertical-align: top;\n",
       "    }\n",
       "\n",
       "    .dataframe thead th {\n",
       "        text-align: right;\n",
       "    }\n",
       "</style>\n",
       "<table border=\"1\" class=\"dataframe\">\n",
       "  <thead>\n",
       "    <tr style=\"text-align: right;\">\n",
       "      <th></th>\n",
       "      <th>클라이언트ID</th>\n",
       "      <th>거래ID</th>\n",
       "      <th>거래일련번호</th>\n",
       "      <th>업종단위</th>\n",
       "      <th>상품소분류코드</th>\n",
       "      <th>구매일자</th>\n",
       "      <th>구매시각</th>\n",
       "      <th>구매금액</th>\n",
       "      <th>구매수량</th>\n",
       "    </tr>\n",
       "  </thead>\n",
       "  <tbody>\n",
       "    <tr>\n",
       "      <th>0</th>\n",
       "      <td>21922</td>\n",
       "      <td>104999</td>\n",
       "      <td>1</td>\n",
       "      <td>A03</td>\n",
       "      <td>unknown</td>\n",
       "      <td>20190920</td>\n",
       "      <td>12:41</td>\n",
       "      <td>5990</td>\n",
       "      <td>1</td>\n",
       "    </tr>\n",
       "    <tr>\n",
       "      <th>1</th>\n",
       "      <td>21279</td>\n",
       "      <td>104907</td>\n",
       "      <td>4</td>\n",
       "      <td>A03</td>\n",
       "      <td>unknown</td>\n",
       "      <td>20190920</td>\n",
       "      <td>10:27</td>\n",
       "      <td>10900</td>\n",
       "      <td>1</td>\n",
       "    </tr>\n",
       "    <tr>\n",
       "      <th>2</th>\n",
       "      <td>39423</td>\n",
       "      <td>105124</td>\n",
       "      <td>11</td>\n",
       "      <td>A03</td>\n",
       "      <td>unknown</td>\n",
       "      <td>20190920</td>\n",
       "      <td>17:26</td>\n",
       "      <td>12900</td>\n",
       "      <td>1</td>\n",
       "    </tr>\n",
       "    <tr>\n",
       "      <th>3</th>\n",
       "      <td>18362</td>\n",
       "      <td>104010</td>\n",
       "      <td>1</td>\n",
       "      <td>A03</td>\n",
       "      <td>unknown</td>\n",
       "      <td>20190920</td>\n",
       "      <td>09:57</td>\n",
       "      <td>9900</td>\n",
       "      <td>1</td>\n",
       "    </tr>\n",
       "    <tr>\n",
       "      <th>4</th>\n",
       "      <td>39423</td>\n",
       "      <td>105124</td>\n",
       "      <td>13</td>\n",
       "      <td>A03</td>\n",
       "      <td>0565</td>\n",
       "      <td>20190920</td>\n",
       "      <td>17:26</td>\n",
       "      <td>2990</td>\n",
       "      <td>1</td>\n",
       "    </tr>\n",
       "  </tbody>\n",
       "</table>\n",
       "</div>"
      ],
      "text/plain": [
       "   클라이언트ID    거래ID  거래일련번호 업종단위  상품소분류코드      구매일자   구매시각   구매금액  구매수량\n",
       "0    21922  104999       1  A03  unknown  20190920  12:41   5990     1\n",
       "1    21279  104907       4  A03  unknown  20190920  10:27  10900     1\n",
       "2    39423  105124      11  A03  unknown  20190920  17:26  12900     1\n",
       "3    18362  104010       1  A03  unknown  20190920  09:57   9900     1\n",
       "4    39423  105124      13  A03     0565  20190920  17:26   2990     1"
      ]
     },
     "execution_count": 7,
     "metadata": {},
     "output_type": "execute_result"
    }
   ],
   "source": [
    "거래정보.head()"
   ]
  },
  {
   "cell_type": "code",
   "execution_count": 8,
   "metadata": {},
   "outputs": [],
   "source": [
    "구매금액 = 거래정보.pivot_table(index = ['클라이언트ID'],aggfunc = 'max', values = '구매금액').reset_index()"
   ]
  },
  {
   "cell_type": "code",
   "execution_count": 9,
   "metadata": {},
   "outputs": [],
   "source": [
    "관심도거래정보 = pd.merge(구매금액, 관심도, on = '클라이언트ID', how = 'left')"
   ]
  },
  {
   "cell_type": "code",
   "execution_count": 10,
   "metadata": {},
   "outputs": [],
   "source": [
    "관심도거래정보.drop(['Unnamed: 0', '세션일자1', '세션일자2', '세션일자3', '세션일자4', '세션일자5',\n",
    "       '세션일자6', '세션일자7', '세션일자8', '세션일자9', '세션일자10', '세션일자11', '세션일자12',\n",
    "       '세션일자13'], axis = 1, inplace = True)"
   ]
  },
  {
   "cell_type": "code",
   "execution_count": 11,
   "metadata": {},
   "outputs": [
    {
     "data": {
      "text/html": [
       "<div>\n",
       "<style scoped>\n",
       "    .dataframe tbody tr th:only-of-type {\n",
       "        vertical-align: middle;\n",
       "    }\n",
       "\n",
       "    .dataframe tbody tr th {\n",
       "        vertical-align: top;\n",
       "    }\n",
       "\n",
       "    .dataframe thead th {\n",
       "        text-align: right;\n",
       "    }\n",
       "</style>\n",
       "<table border=\"1\" class=\"dataframe\">\n",
       "  <thead>\n",
       "    <tr style=\"text-align: right;\">\n",
       "      <th></th>\n",
       "      <th>클라이언트ID</th>\n",
       "      <th>구매금액</th>\n",
       "      <th>관심도</th>\n",
       "    </tr>\n",
       "  </thead>\n",
       "  <tbody>\n",
       "    <tr>\n",
       "      <th>0</th>\n",
       "      <td>2</td>\n",
       "      <td>46430</td>\n",
       "      <td>1.538462</td>\n",
       "    </tr>\n",
       "    <tr>\n",
       "      <th>1</th>\n",
       "      <td>9</td>\n",
       "      <td>149500</td>\n",
       "      <td>2.538462</td>\n",
       "    </tr>\n",
       "    <tr>\n",
       "      <th>2</th>\n",
       "      <td>12</td>\n",
       "      <td>29900</td>\n",
       "      <td>0.076923</td>\n",
       "    </tr>\n",
       "    <tr>\n",
       "      <th>3</th>\n",
       "      <td>20</td>\n",
       "      <td>18900</td>\n",
       "      <td>0.076923</td>\n",
       "    </tr>\n",
       "    <tr>\n",
       "      <th>4</th>\n",
       "      <td>23</td>\n",
       "      <td>27000</td>\n",
       "      <td>1.615385</td>\n",
       "    </tr>\n",
       "  </tbody>\n",
       "</table>\n",
       "</div>"
      ],
      "text/plain": [
       "   클라이언트ID    구매금액       관심도\n",
       "0        2   46430  1.538462\n",
       "1        9  149500  2.538462\n",
       "2       12   29900  0.076923\n",
       "3       20   18900  0.076923\n",
       "4       23   27000  1.615385"
      ]
     },
     "execution_count": 11,
     "metadata": {},
     "output_type": "execute_result"
    }
   ],
   "source": [
    "관심도거래정보.head()"
   ]
  },
  {
   "cell_type": "code",
   "execution_count": 12,
   "metadata": {},
   "outputs": [],
   "source": [
    "충성도 = pd.merge(관심도거래정보, 상품코드개수final,  on = '클라이언트ID', how = 'left')"
   ]
  },
  {
   "cell_type": "code",
   "execution_count": 13,
   "metadata": {},
   "outputs": [],
   "source": [
    "충성도.drop('Unnamed: 0', axis = 1, inplace = True)"
   ]
  },
  {
   "cell_type": "code",
   "execution_count": 14,
   "metadata": {},
   "outputs": [],
   "source": [
    "충성도 = 충성도.fillna(0) # filtered0 으로 채우기"
   ]
  },
  {
   "cell_type": "code",
   "execution_count": 15,
   "metadata": {},
   "outputs": [],
   "source": [
    "온라인정보 = pd.read_csv(\"온라인 행동 정보.CSV\", engine = 'python', encoding = 'utf-8-sig')"
   ]
  },
  {
   "cell_type": "code",
   "execution_count": 16,
   "metadata": {},
   "outputs": [],
   "source": [
    "온라인정보.columns = ['클라이언트ID', '세션ID', '조회일련번호', '행동유형', '업종단위', \n",
    "                 '세션일자', '조회시각','조회경과시간', '거래ID', '검색 키워드',\n",
    "                '총페이지조회건수', '총세션시간값', '유입채널', '기기유형']"
   ]
  },
  {
   "cell_type": "code",
   "execution_count": 17,
   "metadata": {},
   "outputs": [
    {
     "data": {
      "text/plain": [
       "11284"
      ]
     },
     "execution_count": 17,
     "metadata": {},
     "output_type": "execute_result"
    }
   ],
   "source": [
    "len(충성도)"
   ]
  },
  {
   "cell_type": "code",
   "execution_count": 18,
   "metadata": {},
   "outputs": [],
   "source": [
    "검색키워드 = 온라인정보.pivot_table(index = ['클라이언트ID'], aggfunc = 'count', values = '검색 키워드').reset_index()"
   ]
  },
  {
   "cell_type": "code",
   "execution_count": 19,
   "metadata": {},
   "outputs": [],
   "source": [
    "충성도 = pd.merge(충성도, 검색키워드,  on = '클라이언트ID', how = 'left')"
   ]
  },
  {
   "cell_type": "code",
   "execution_count": 20,
   "metadata": {},
   "outputs": [
    {
     "data": {
      "text/html": [
       "<div>\n",
       "<style scoped>\n",
       "    .dataframe tbody tr th:only-of-type {\n",
       "        vertical-align: middle;\n",
       "    }\n",
       "\n",
       "    .dataframe tbody tr th {\n",
       "        vertical-align: top;\n",
       "    }\n",
       "\n",
       "    .dataframe thead th {\n",
       "        text-align: right;\n",
       "    }\n",
       "</style>\n",
       "<table border=\"1\" class=\"dataframe\">\n",
       "  <thead>\n",
       "    <tr style=\"text-align: right;\">\n",
       "      <th></th>\n",
       "      <th>클라이언트ID</th>\n",
       "      <th>구매금액</th>\n",
       "      <th>관심도</th>\n",
       "      <th>filtered2</th>\n",
       "      <th>검색 키워드</th>\n",
       "    </tr>\n",
       "  </thead>\n",
       "  <tbody>\n",
       "    <tr>\n",
       "      <th>0</th>\n",
       "      <td>2</td>\n",
       "      <td>46430</td>\n",
       "      <td>1.538462</td>\n",
       "      <td>0.0</td>\n",
       "      <td>46</td>\n",
       "    </tr>\n",
       "    <tr>\n",
       "      <th>1</th>\n",
       "      <td>9</td>\n",
       "      <td>149500</td>\n",
       "      <td>2.538462</td>\n",
       "      <td>0.0</td>\n",
       "      <td>33</td>\n",
       "    </tr>\n",
       "    <tr>\n",
       "      <th>2</th>\n",
       "      <td>12</td>\n",
       "      <td>29900</td>\n",
       "      <td>0.076923</td>\n",
       "      <td>0.0</td>\n",
       "      <td>1</td>\n",
       "    </tr>\n",
       "    <tr>\n",
       "      <th>3</th>\n",
       "      <td>20</td>\n",
       "      <td>18900</td>\n",
       "      <td>0.076923</td>\n",
       "      <td>0.0</td>\n",
       "      <td>0</td>\n",
       "    </tr>\n",
       "    <tr>\n",
       "      <th>4</th>\n",
       "      <td>23</td>\n",
       "      <td>27000</td>\n",
       "      <td>1.615385</td>\n",
       "      <td>0.0</td>\n",
       "      <td>55</td>\n",
       "    </tr>\n",
       "  </tbody>\n",
       "</table>\n",
       "</div>"
      ],
      "text/plain": [
       "   클라이언트ID    구매금액       관심도  filtered2  검색 키워드\n",
       "0        2   46430  1.538462        0.0      46\n",
       "1        9  149500  2.538462        0.0      33\n",
       "2       12   29900  0.076923        0.0       1\n",
       "3       20   18900  0.076923        0.0       0\n",
       "4       23   27000  1.615385        0.0      55"
      ]
     },
     "execution_count": 20,
     "metadata": {},
     "output_type": "execute_result"
    }
   ],
   "source": [
    "충성도.head()"
   ]
  },
  {
   "cell_type": "code",
   "execution_count": 21,
   "metadata": {},
   "outputs": [],
   "source": [
    "충성도['상품코드기여율'] = 충성도['filtered2']/충성도['검색 키워드']"
   ]
  },
  {
   "cell_type": "code",
   "execution_count": 22,
   "metadata": {},
   "outputs": [],
   "source": [
    "충성도 = 충성도.dropna(axis = 0, subset = ['상품코드기여율'])"
   ]
  },
  {
   "cell_type": "code",
   "execution_count": 23,
   "metadata": {},
   "outputs": [],
   "source": [
    "import matplotlib.pyplot  as plt\n",
    "import seaborn as sns"
   ]
  },
  {
   "cell_type": "code",
   "execution_count": 24,
   "metadata": {},
   "outputs": [],
   "source": [
    "import matplotlib as mpl\n",
    "\n",
    "mpl.rcParams['font.family'].insert(0, 'Malgun Gothic')"
   ]
  },
  {
   "cell_type": "code",
   "execution_count": 25,
   "metadata": {},
   "outputs": [
    {
     "data": {
      "text/plain": [
       "<matplotlib.collections.PathCollection at 0x1fc919b72e8>"
      ]
     },
     "execution_count": 25,
     "metadata": {},
     "output_type": "execute_result"
    },
    {
     "data": {
      "image/png": "[encoded data removed]",
      "text/plain": [
       "<Figure size 432x288 with 1 Axes>"
      ]
     },
     "metadata": {
      "needs_background": "light"
     },
     "output_type": "display_data"
    }
   ],
   "source": [
    "plt.scatter(충성도['클라이언트ID'], 충성도['상품코드기여율'])"
   ]
  },
  {
   "cell_type": "code",
   "execution_count": 26,
   "metadata": {},
   "outputs": [
    {
     "data": {
      "text/plain": [
       "<matplotlib.collections.PathCollection at 0x1fc919d6cf8>"
      ]
     },
     "execution_count": 26,
     "metadata": {},
     "output_type": "execute_result"
    },
    {
     "data": {
      "image/png": "[encoded data removed]",
      "text/plain": [
       "<Figure size 432x288 with 1 Axes>"
      ]
     },
     "metadata": {
      "needs_background": "light"
     },
     "output_type": "display_data"
    }
   ],
   "source": [
    "plt.scatter(충성도['클라이언트ID'], 충성도['관심도'])"
   ]
  },
  {
   "cell_type": "code",
   "execution_count": 27,
   "metadata": {},
   "outputs": [
    {
     "data": {
      "text/plain": [
       "<matplotlib.collections.PathCollection at 0x1fc91a5cef0>"
      ]
     },
     "execution_count": 27,
     "metadata": {},
     "output_type": "execute_result"
    },
    {
     "data": {
      "image/png": "[encoded data removed]",
      "text/plain": [
       "<Figure size 432x288 with 1 Axes>"
      ]
     },
     "metadata": {
      "needs_background": "light"
     },
     "output_type": "display_data"
    }
   ],
   "source": [
    "plt.scatter(충성도['클라이언트ID'], 충성도['구매금액'])"
   ]
  },
  {
   "cell_type": "code",
   "execution_count": 28,
   "metadata": {},
   "outputs": [],
   "source": [
    "충성도.drop(충성도[충성도['구매금액']> 1000000000].index,inplace = True)"
   ]
  },
  {
   "cell_type": "code",
   "execution_count": 29,
   "metadata": {},
   "outputs": [],
   "source": [
    "충성도 = 충성도.reset_index()"
   ]
  },
  {
   "cell_type": "code",
   "execution_count": 30,
   "metadata": {},
   "outputs": [
    {
     "data": {
      "text/html": [
       "<div>\n",
       "<style scoped>\n",
       "    .dataframe tbody tr th:only-of-type {\n",
       "        vertical-align: middle;\n",
       "    }\n",
       "\n",
       "    .dataframe tbody tr th {\n",
       "        vertical-align: top;\n",
       "    }\n",
       "\n",
       "    .dataframe thead th {\n",
       "        text-align: right;\n",
       "    }\n",
       "</style>\n",
       "<table border=\"1\" class=\"dataframe\">\n",
       "  <thead>\n",
       "    <tr style=\"text-align: right;\">\n",
       "      <th></th>\n",
       "      <th>index</th>\n",
       "      <th>클라이언트ID</th>\n",
       "      <th>구매금액</th>\n",
       "      <th>관심도</th>\n",
       "      <th>filtered2</th>\n",
       "      <th>검색 키워드</th>\n",
       "      <th>상품코드기여율</th>\n",
       "    </tr>\n",
       "  </thead>\n",
       "  <tbody>\n",
       "    <tr>\n",
       "      <th>0</th>\n",
       "      <td>0</td>\n",
       "      <td>2</td>\n",
       "      <td>46430</td>\n",
       "      <td>1.538462</td>\n",
       "      <td>0.0</td>\n",
       "      <td>46</td>\n",
       "      <td>0.0</td>\n",
       "    </tr>\n",
       "    <tr>\n",
       "      <th>1</th>\n",
       "      <td>1</td>\n",
       "      <td>9</td>\n",
       "      <td>149500</td>\n",
       "      <td>2.538462</td>\n",
       "      <td>0.0</td>\n",
       "      <td>33</td>\n",
       "      <td>0.0</td>\n",
       "    </tr>\n",
       "    <tr>\n",
       "      <th>2</th>\n",
       "      <td>2</td>\n",
       "      <td>12</td>\n",
       "      <td>29900</td>\n",
       "      <td>0.076923</td>\n",
       "      <td>0.0</td>\n",
       "      <td>1</td>\n",
       "      <td>0.0</td>\n",
       "    </tr>\n",
       "    <tr>\n",
       "      <th>3</th>\n",
       "      <td>4</td>\n",
       "      <td>23</td>\n",
       "      <td>27000</td>\n",
       "      <td>1.615385</td>\n",
       "      <td>0.0</td>\n",
       "      <td>55</td>\n",
       "      <td>0.0</td>\n",
       "    </tr>\n",
       "    <tr>\n",
       "      <th>4</th>\n",
       "      <td>5</td>\n",
       "      <td>24</td>\n",
       "      <td>48900</td>\n",
       "      <td>1.461538</td>\n",
       "      <td>0.0</td>\n",
       "      <td>46</td>\n",
       "      <td>0.0</td>\n",
       "    </tr>\n",
       "  </tbody>\n",
       "</table>\n",
       "</div>"
      ],
      "text/plain": [
       "   index  클라이언트ID    구매금액       관심도  filtered2  검색 키워드  상품코드기여율\n",
       "0      0        2   46430  1.538462        0.0      46      0.0\n",
       "1      1        9  149500  2.538462        0.0      33      0.0\n",
       "2      2       12   29900  0.076923        0.0       1      0.0\n",
       "3      4       23   27000  1.615385        0.0      55      0.0\n",
       "4      5       24   48900  1.461538        0.0      46      0.0"
      ]
     },
     "execution_count": 30,
     "metadata": {},
     "output_type": "execute_result"
    }
   ],
   "source": [
    "충성도.head()"
   ]
  },
  {
   "cell_type": "code",
   "execution_count": 31,
   "metadata": {},
   "outputs": [],
   "source": [
    "충성도.drop(충성도[충성도['구매금액'] == 0].index, inplace = True)"
   ]
  },
  {
   "cell_type": "code",
   "execution_count": 32,
   "metadata": {},
   "outputs": [],
   "source": [
    "충성도 = 충성도.reset_index()"
   ]
  },
  {
   "cell_type": "code",
   "execution_count": 33,
   "metadata": {},
   "outputs": [
    {
     "data": {
      "text/html": [
       "<div>\n",
       "<style scoped>\n",
       "    .dataframe tbody tr th:only-of-type {\n",
       "        vertical-align: middle;\n",
       "    }\n",
       "\n",
       "    .dataframe tbody tr th {\n",
       "        vertical-align: top;\n",
       "    }\n",
       "\n",
       "    .dataframe thead th {\n",
       "        text-align: right;\n",
       "    }\n",
       "</style>\n",
       "<table border=\"1\" class=\"dataframe\">\n",
       "  <thead>\n",
       "    <tr style=\"text-align: right;\">\n",
       "      <th></th>\n",
       "      <th>level_0</th>\n",
       "      <th>index</th>\n",
       "      <th>클라이언트ID</th>\n",
       "      <th>구매금액</th>\n",
       "      <th>관심도</th>\n",
       "      <th>filtered2</th>\n",
       "      <th>검색 키워드</th>\n",
       "      <th>상품코드기여율</th>\n",
       "    </tr>\n",
       "  </thead>\n",
       "  <tbody>\n",
       "    <tr>\n",
       "      <th>0</th>\n",
       "      <td>0</td>\n",
       "      <td>0</td>\n",
       "      <td>2</td>\n",
       "      <td>46430</td>\n",
       "      <td>1.538462</td>\n",
       "      <td>0.0</td>\n",
       "      <td>46</td>\n",
       "      <td>0.0</td>\n",
       "    </tr>\n",
       "    <tr>\n",
       "      <th>1</th>\n",
       "      <td>1</td>\n",
       "      <td>1</td>\n",
       "      <td>9</td>\n",
       "      <td>149500</td>\n",
       "      <td>2.538462</td>\n",
       "      <td>0.0</td>\n",
       "      <td>33</td>\n",
       "      <td>0.0</td>\n",
       "    </tr>\n",
       "    <tr>\n",
       "      <th>2</th>\n",
       "      <td>2</td>\n",
       "      <td>2</td>\n",
       "      <td>12</td>\n",
       "      <td>29900</td>\n",
       "      <td>0.076923</td>\n",
       "      <td>0.0</td>\n",
       "      <td>1</td>\n",
       "      <td>0.0</td>\n",
       "    </tr>\n",
       "    <tr>\n",
       "      <th>3</th>\n",
       "      <td>3</td>\n",
       "      <td>4</td>\n",
       "      <td>23</td>\n",
       "      <td>27000</td>\n",
       "      <td>1.615385</td>\n",
       "      <td>0.0</td>\n",
       "      <td>55</td>\n",
       "      <td>0.0</td>\n",
       "    </tr>\n",
       "    <tr>\n",
       "      <th>4</th>\n",
       "      <td>4</td>\n",
       "      <td>5</td>\n",
       "      <td>24</td>\n",
       "      <td>48900</td>\n",
       "      <td>1.461538</td>\n",
       "      <td>0.0</td>\n",
       "      <td>46</td>\n",
       "      <td>0.0</td>\n",
       "    </tr>\n",
       "  </tbody>\n",
       "</table>\n",
       "</div>"
      ],
      "text/plain": [
       "   level_0  index  클라이언트ID    구매금액       관심도  filtered2  검색 키워드  상품코드기여율\n",
       "0        0      0        2   46430  1.538462        0.0      46      0.0\n",
       "1        1      1        9  149500  2.538462        0.0      33      0.0\n",
       "2        2      2       12   29900  0.076923        0.0       1      0.0\n",
       "3        3      4       23   27000  1.615385        0.0      55      0.0\n",
       "4        4      5       24   48900  1.461538        0.0      46      0.0"
      ]
     },
     "execution_count": 33,
     "metadata": {},
     "output_type": "execute_result"
    }
   ],
   "source": [
    "충성도.head()"
   ]
  },
  {
   "cell_type": "markdown",
   "metadata": {},
   "source": [
    "## scaling"
   ]
  },
  {
   "cell_type": "code",
   "execution_count": 34,
   "metadata": {},
   "outputs": [],
   "source": [
    "# RobustScaler\n",
    "from sklearn.preprocessing import RobustScaler\n",
    "\n",
    "robustScaler = RobustScaler()\n",
    "robustScaler.fit(충성도[['구매금액', '관심도', '상품코드기여율']])\n",
    "train_data_robustScaled = robustScaler.transform(충성도[['구매금액', '관심도', '상품코드기여율']])"
   ]
  },
  {
   "cell_type": "code",
   "execution_count": 35,
   "metadata": {},
   "outputs": [],
   "source": [
    "from sklearn.preprocessing import MinMaxScaler\n",
    "\n",
    "minMaxScaler = MinMaxScaler()\n",
    "minMaxScaler.fit(충성도[['구매금액', '관심도', '상품코드기여율']])\n",
    "train_data_minMaxScaled = minMaxScaler.transform(충성도[['구매금액', '관심도', '상품코드기여율']])"
   ]
  },
  {
   "cell_type": "code",
   "execution_count": 45,
   "metadata": {},
   "outputs": [],
   "source": [
    "robust_Scale = pd.DataFrame(train_data_robustScaled)\n",
    "robust_Scale.columns = ['구매금액_robust_Scale', '관심도_robust_Scale', '상품코드기여율_robust_Scale']"
   ]
  },
  {
   "cell_type": "code",
   "execution_count": 46,
   "metadata": {},
   "outputs": [],
   "source": [
    "MinMax_Scale = pd.DataFrame(train_data_minMaxScaled)\n",
    "MinMax_Scale.columns = ['구매금액_Min/Max_Scale', '관심도_Min/Max_Scale', '상품코드기여율_Min/Max_Scale']"
   ]
  },
  {
   "cell_type": "code",
   "execution_count": 47,
   "metadata": {},
   "outputs": [],
   "source": [
    "거래소비자__충성도 = pd.concat([충성도, robust_Scale,MinMax_Scale ], axis = 1)"
   ]
  },
  {
   "cell_type": "code",
   "execution_count": 48,
   "metadata": {},
   "outputs": [
    {
     "data": {
      "text/html": [
       "<div>\n",
       "<style scoped>\n",
       "    .dataframe tbody tr th:only-of-type {\n",
       "        vertical-align: middle;\n",
       "    }\n",
       "\n",
       "    .dataframe tbody tr th {\n",
       "        vertical-align: top;\n",
       "    }\n",
       "\n",
       "    .dataframe thead th {\n",
       "        text-align: right;\n",
       "    }\n",
       "</style>\n",
       "<table border=\"1\" class=\"dataframe\">\n",
       "  <thead>\n",
       "    <tr style=\"text-align: right;\">\n",
       "      <th></th>\n",
       "      <th>level_0</th>\n",
       "      <th>index</th>\n",
       "      <th>클라이언트ID</th>\n",
       "      <th>구매금액</th>\n",
       "      <th>관심도</th>\n",
       "      <th>filtered2</th>\n",
       "      <th>검색 키워드</th>\n",
       "      <th>상품코드기여율</th>\n",
       "      <th>구매금액_robust_Scale</th>\n",
       "      <th>관심도_robust_Scale</th>\n",
       "      <th>상품코드기여율_robust_Scale</th>\n",
       "      <th>구매금액_Min/Max_Scale</th>\n",
       "      <th>관심도_Min/Max_Scale</th>\n",
       "      <th>상품코드기여율_Min/Max_Scale</th>\n",
       "    </tr>\n",
       "  </thead>\n",
       "  <tbody>\n",
       "    <tr>\n",
       "      <th>0</th>\n",
       "      <td>0</td>\n",
       "      <td>0</td>\n",
       "      <td>2</td>\n",
       "      <td>46430</td>\n",
       "      <td>1.538462</td>\n",
       "      <td>0.0</td>\n",
       "      <td>46</td>\n",
       "      <td>0.0</td>\n",
       "      <td>0.103271</td>\n",
       "      <td>0.7500</td>\n",
       "      <td>0.0</td>\n",
       "      <td>0.003926</td>\n",
       "      <td>0.034608</td>\n",
       "      <td>0.0</td>\n",
       "    </tr>\n",
       "    <tr>\n",
       "      <th>1</th>\n",
       "      <td>1</td>\n",
       "      <td>1</td>\n",
       "      <td>9</td>\n",
       "      <td>149500</td>\n",
       "      <td>2.538462</td>\n",
       "      <td>0.0</td>\n",
       "      <td>33</td>\n",
       "      <td>0.0</td>\n",
       "      <td>1.708723</td>\n",
       "      <td>1.5625</td>\n",
       "      <td>0.0</td>\n",
       "      <td>0.012661</td>\n",
       "      <td>0.058288</td>\n",
       "      <td>0.0</td>\n",
       "    </tr>\n",
       "    <tr>\n",
       "      <th>2</th>\n",
       "      <td>2</td>\n",
       "      <td>2</td>\n",
       "      <td>12</td>\n",
       "      <td>29900</td>\n",
       "      <td>0.076923</td>\n",
       "      <td>0.0</td>\n",
       "      <td>1</td>\n",
       "      <td>0.0</td>\n",
       "      <td>-0.154206</td>\n",
       "      <td>-0.4375</td>\n",
       "      <td>0.0</td>\n",
       "      <td>0.002525</td>\n",
       "      <td>0.000000</td>\n",
       "      <td>0.0</td>\n",
       "    </tr>\n",
       "    <tr>\n",
       "      <th>3</th>\n",
       "      <td>3</td>\n",
       "      <td>4</td>\n",
       "      <td>23</td>\n",
       "      <td>27000</td>\n",
       "      <td>1.615385</td>\n",
       "      <td>0.0</td>\n",
       "      <td>55</td>\n",
       "      <td>0.0</td>\n",
       "      <td>-0.199377</td>\n",
       "      <td>0.8125</td>\n",
       "      <td>0.0</td>\n",
       "      <td>0.002280</td>\n",
       "      <td>0.036430</td>\n",
       "      <td>0.0</td>\n",
       "    </tr>\n",
       "    <tr>\n",
       "      <th>4</th>\n",
       "      <td>4</td>\n",
       "      <td>5</td>\n",
       "      <td>24</td>\n",
       "      <td>48900</td>\n",
       "      <td>1.461538</td>\n",
       "      <td>0.0</td>\n",
       "      <td>46</td>\n",
       "      <td>0.0</td>\n",
       "      <td>0.141745</td>\n",
       "      <td>0.6875</td>\n",
       "      <td>0.0</td>\n",
       "      <td>0.004136</td>\n",
       "      <td>0.032787</td>\n",
       "      <td>0.0</td>\n",
       "    </tr>\n",
       "  </tbody>\n",
       "</table>\n",
       "</div>"
      ],
      "text/plain": [
       "   level_0  index  클라이언트ID    구매금액       관심도  filtered2  검색 키워드  상품코드기여율  \\\n",
       "0        0      0        2   46430  1.538462        0.0      46      0.0   \n",
       "1        1      1        9  149500  2.538462        0.0      33      0.0   \n",
       "2        2      2       12   29900  0.076923        0.0       1      0.0   \n",
       "3        3      4       23   27000  1.615385        0.0      55      0.0   \n",
       "4        4      5       24   48900  1.461538        0.0      46      0.0   \n",
       "\n",
       "   구매금액_robust_Scale  관심도_robust_Scale  상품코드기여율_robust_Scale  \\\n",
       "0           0.103271            0.7500                   0.0   \n",
       "1           1.708723            1.5625                   0.0   \n",
       "2          -0.154206           -0.4375                   0.0   \n",
       "3          -0.199377            0.8125                   0.0   \n",
       "4           0.141745            0.6875                   0.0   \n",
       "\n",
       "   구매금액_Min/Max_Scale  관심도_Min/Max_Scale  상품코드기여율_Min/Max_Scale  \n",
       "0            0.003926           0.034608                    0.0  \n",
       "1            0.012661           0.058288                    0.0  \n",
       "2            0.002525           0.000000                    0.0  \n",
       "3            0.002280           0.036430                    0.0  \n",
       "4            0.004136           0.032787                    0.0  "
      ]
     },
     "execution_count": 48,
     "metadata": {},
     "output_type": "execute_result"
    }
   ],
   "source": [
    "거래소비자__충성도.head()"
   ]
  },
  {
   "cell_type": "code",
   "execution_count": 49,
   "metadata": {},
   "outputs": [
    {
     "data": {
      "text/html": [
       "<div>\n",
       "<style scoped>\n",
       "    .dataframe tbody tr th:only-of-type {\n",
       "        vertical-align: middle;\n",
       "    }\n",
       "\n",
       "    .dataframe tbody tr th {\n",
       "        vertical-align: top;\n",
       "    }\n",
       "\n",
       "    .dataframe thead th {\n",
       "        text-align: right;\n",
       "    }\n",
       "</style>\n",
       "<table border=\"1\" class=\"dataframe\">\n",
       "  <thead>\n",
       "    <tr style=\"text-align: right;\">\n",
       "      <th></th>\n",
       "      <th>구매금액_robust_Scale</th>\n",
       "      <th>관심도_robust_Scale</th>\n",
       "      <th>상품코드기여율_robust_Scale</th>\n",
       "    </tr>\n",
       "  </thead>\n",
       "  <tbody>\n",
       "    <tr>\n",
       "      <th>0</th>\n",
       "      <td>0.103271</td>\n",
       "      <td>0.7500</td>\n",
       "      <td>0.0</td>\n",
       "    </tr>\n",
       "    <tr>\n",
       "      <th>1</th>\n",
       "      <td>1.708723</td>\n",
       "      <td>1.5625</td>\n",
       "      <td>0.0</td>\n",
       "    </tr>\n",
       "    <tr>\n",
       "      <th>2</th>\n",
       "      <td>-0.154206</td>\n",
       "      <td>-0.4375</td>\n",
       "      <td>0.0</td>\n",
       "    </tr>\n",
       "    <tr>\n",
       "      <th>3</th>\n",
       "      <td>-0.199377</td>\n",
       "      <td>0.8125</td>\n",
       "      <td>0.0</td>\n",
       "    </tr>\n",
       "    <tr>\n",
       "      <th>4</th>\n",
       "      <td>0.141745</td>\n",
       "      <td>0.6875</td>\n",
       "      <td>0.0</td>\n",
       "    </tr>\n",
       "  </tbody>\n",
       "</table>\n",
       "</div>"
      ],
      "text/plain": [
       "   구매금액_robust_Scale  관심도_robust_Scale  상품코드기여율_robust_Scale\n",
       "0           0.103271            0.7500                   0.0\n",
       "1           1.708723            1.5625                   0.0\n",
       "2          -0.154206           -0.4375                   0.0\n",
       "3          -0.199377            0.8125                   0.0\n",
       "4           0.141745            0.6875                   0.0"
      ]
     },
     "execution_count": 49,
     "metadata": {},
     "output_type": "execute_result"
    }
   ],
   "source": [
    "feature_robust_Scale = 거래소비자__충성도[ ['구매금액_robust_Scale', '관심도_robust_Scale', '상품코드기여율_robust_Scale']]\n",
    "feature_robust_Scale.head()"
   ]
  },
  {
   "cell_type": "code",
   "execution_count": 50,
   "metadata": {},
   "outputs": [
    {
     "data": {
      "text/html": [
       "<div>\n",
       "<style scoped>\n",
       "    .dataframe tbody tr th:only-of-type {\n",
       "        vertical-align: middle;\n",
       "    }\n",
       "\n",
       "    .dataframe tbody tr th {\n",
       "        vertical-align: top;\n",
       "    }\n",
       "\n",
       "    .dataframe thead th {\n",
       "        text-align: right;\n",
       "    }\n",
       "</style>\n",
       "<table border=\"1\" class=\"dataframe\">\n",
       "  <thead>\n",
       "    <tr style=\"text-align: right;\">\n",
       "      <th></th>\n",
       "      <th>구매금액_Min/Max_Scale</th>\n",
       "      <th>관심도_Min/Max_Scale</th>\n",
       "      <th>상품코드기여율_Min/Max_Scale</th>\n",
       "    </tr>\n",
       "  </thead>\n",
       "  <tbody>\n",
       "    <tr>\n",
       "      <th>0</th>\n",
       "      <td>0.003926</td>\n",
       "      <td>0.034608</td>\n",
       "      <td>0.0</td>\n",
       "    </tr>\n",
       "    <tr>\n",
       "      <th>1</th>\n",
       "      <td>0.012661</td>\n",
       "      <td>0.058288</td>\n",
       "      <td>0.0</td>\n",
       "    </tr>\n",
       "    <tr>\n",
       "      <th>2</th>\n",
       "      <td>0.002525</td>\n",
       "      <td>0.000000</td>\n",
       "      <td>0.0</td>\n",
       "    </tr>\n",
       "    <tr>\n",
       "      <th>3</th>\n",
       "      <td>0.002280</td>\n",
       "      <td>0.036430</td>\n",
       "      <td>0.0</td>\n",
       "    </tr>\n",
       "    <tr>\n",
       "      <th>4</th>\n",
       "      <td>0.004136</td>\n",
       "      <td>0.032787</td>\n",
       "      <td>0.0</td>\n",
       "    </tr>\n",
       "  </tbody>\n",
       "</table>\n",
       "</div>"
      ],
      "text/plain": [
       "   구매금액_Min/Max_Scale  관심도_Min/Max_Scale  상품코드기여율_Min/Max_Scale\n",
       "0            0.003926           0.034608                    0.0\n",
       "1            0.012661           0.058288                    0.0\n",
       "2            0.002525           0.000000                    0.0\n",
       "3            0.002280           0.036430                    0.0\n",
       "4            0.004136           0.032787                    0.0"
      ]
     },
     "execution_count": 50,
     "metadata": {},
     "output_type": "execute_result"
    }
   ],
   "source": [
    "feature_MinMax_Scale = 거래소비자__충성도[ ['구매금액_Min/Max_Scale', '관심도_Min/Max_Scale', '상품코드기여율_Min/Max_Scale']]\n",
    "feature_MinMax_Scale.head()"
   ]
  },
  {
   "cell_type": "code",
   "execution_count": 51,
   "metadata": {},
   "outputs": [
    {
     "name": "stdout",
     "output_type": "stream",
     "text": [
      "      구매금액_Min/Max_Scale  관심도_Min/Max_Scale  상품코드기여율_Min/Max_Scale  predict\n",
      "0               0.003926           0.034608               0.000000        0\n",
      "1               0.012661           0.058288               0.000000        0\n",
      "2               0.002525           0.000000               0.000000        0\n",
      "3               0.002280           0.036430               0.000000        0\n",
      "4               0.004136           0.032787               0.000000        0\n",
      "5               0.000805           0.027322               0.087719        0\n",
      "6               0.006654           0.009107               0.000000        0\n",
      "7               0.023636           0.107468               0.000000        2\n",
      "8               0.007610           0.020036               0.000000        0\n",
      "9               0.004297           0.016393               0.000000        0\n",
      "10              0.004263           0.125683               0.000000        2\n",
      "11              0.012458           0.029144               0.000000        0\n",
      "12              0.005500           0.003643               0.500000        1\n",
      "13              0.002525           0.074681               0.000000        0\n",
      "14              0.001508           0.016393               0.000000        0\n",
      "15              0.082111           0.009107               0.000000        0\n",
      "16              0.002958           0.083789               0.004237        0\n",
      "17              0.033890           0.000000               0.000000        0\n",
      "18              0.007639           0.001821               0.000000        0\n",
      "19              0.004371           0.003643               0.000000        0\n",
      "20              0.004822           0.000000               0.000000        0\n",
      "21              0.001907           0.007286               0.142857        0\n",
      "22              0.010144           0.018215               0.000000        0\n",
      "23              0.008820           0.001821               0.000000        0\n",
      "24              0.002986           0.061931               0.000000        0\n",
      "25              0.003297           0.012750               0.000000        0\n",
      "26              0.003914           0.005464               0.000000        0\n",
      "27              0.002525           0.005464               0.000000        0\n",
      "28              0.001331           0.005464               0.000000        0\n",
      "29              0.006691           0.000000               0.000000        0\n",
      "...                  ...                ...                    ...      ...\n",
      "8104            0.001005           0.025501               0.000000        0\n",
      "8105            0.002958           0.071038               0.000000        0\n",
      "8106            0.002763           0.202186               0.051402        2\n",
      "8107            0.003041           0.001821               0.000000        0\n",
      "8108            0.000839           0.112933               0.000000        2\n",
      "8109            0.007068           0.094718               0.000000        2\n",
      "8110            0.026178           0.081967               0.829545        1\n",
      "8111            0.006178           0.014572               0.000000        0\n",
      "8112            0.001653           0.007286               0.000000        0\n",
      "8113            0.001670           0.005464               0.200000        0\n",
      "8114            0.130099           0.001821               0.000000        0\n",
      "8115            0.001177           0.018215               0.000000        0\n",
      "8116            0.000831           0.005464               0.000000        0\n",
      "8117            0.025246           0.076503               0.000000        0\n",
      "8118            0.001085           0.065574               0.000000        0\n",
      "8119            0.001632           0.000000               0.000000        0\n",
      "8120            0.004220           0.005464               0.000000        0\n",
      "8121            0.010099           0.003643               0.000000        0\n",
      "8122            0.003890           0.049180               0.000000        0\n",
      "8123            0.012712           0.001821               0.000000        0\n",
      "8124            0.001839           0.043716               0.000000        0\n",
      "8125            0.002356           0.012750               0.120000        0\n",
      "8126            0.001175           0.000000               0.000000        0\n",
      "8127            0.008381           0.067395               0.000000        0\n",
      "8128            0.004138           0.309654               0.006148        2\n",
      "8129            0.023291           0.023679               0.000000        0\n",
      "8130            0.038043           0.132969               0.000000        2\n",
      "8131            0.012534           0.010929               0.000000        0\n",
      "8132            0.006907           0.005464               0.000000        0\n",
      "8133            0.008381           0.001821               0.800000        1\n",
      "\n",
      "[8134 rows x 4 columns]\n"
     ]
    }
   ],
   "source": [
    "from sklearn.cluster import KMeans\n",
    "import matplotlib.pyplot  as plt\n",
    "import seaborn as sns\n",
    "\n",
    "# create model and prediction\n",
    "model = KMeans(n_clusters=3,algorithm='auto')\n",
    "model.fit(feature_MinMax_Scale)\n",
    "predict = pd.DataFrame(model.predict(feature_MinMax_Scale))\n",
    "#print(predict)\n",
    "predict.columns=['predict']  # predcit는 군집에 라벨링해주는 것\n",
    "                             # 이 데이터는 군집0, 군집1, 군집2에 들어간다 \n",
    "\n",
    "# concatenate labels to df as a new column\n",
    "r = pd.concat([feature_MinMax_Scale,predict],axis=1)\n",
    "\n",
    "print(r)"
   ]
  },
  {
   "cell_type": "code",
   "execution_count": 52,
   "metadata": {},
   "outputs": [
    {
     "data": {
      "image/png": "[encoded data removed]",
      "text/plain": [
       "<Figure size 432x432 with 1 Axes>"
      ]
     },
     "metadata": {
      "needs_background": "light"
     },
     "output_type": "display_data"
    }
   ],
   "source": [
    "from mpl_toolkits.mplot3d import Axes3D\n",
    "# scatter plot\n",
    "fig = plt.figure( figsize=(6,6))\n",
    "ax = Axes3D(fig, rect=[0, 0, .95, 1], elev=48, azim=134)\n",
    "ax.scatter( r['상품코드기여율_Min/Max_Scale'],r['관심도_Min/Max_Scale'],r['구매금액_Min/Max_Scale'], c=r['predict'],alpha=0.5)\n",
    "ax.set_xlabel('구매금액_robust_Scale')\n",
    "ax.set_ylabel('관심도_robust_Scale')\n",
    "ax.set_zlabel('상품코드기여율_robust_Scale')\n",
    "plt.show()"
   ]
  },
  {
   "cell_type": "code",
   "execution_count": 53,
   "metadata": {
    "scrolled": true
   },
   "outputs": [
    {
     "name": "stderr",
     "output_type": "stream",
     "text": [
      "C:\\ProgramData\\Anaconda3\\lib\\site-packages\\scipy\\stats\\stats.py:1713: FutureWarning: Using a non-tuple sequence for multidimensional indexing is deprecated; use `arr[tuple(seq)]` instead of `arr[seq]`. In the future this will be interpreted as an array index, `arr[np.array(seq)]`, which will result either in an error or a different result.\n",
      "  return np.add.reduce(sorted[indexer] * weights, axis=axis) / sumval\n",
      "C:\\ProgramData\\Anaconda3\\lib\\site-packages\\statsmodels\\nonparametric\\kde.py:488: RuntimeWarning: invalid value encountered in true_divide\n",
      "  binned = fast_linbin(X, a, b, gridsize) / (delta * nobs)\n",
      "C:\\ProgramData\\Anaconda3\\lib\\site-packages\\statsmodels\\nonparametric\\kdetools.py:34: RuntimeWarning: invalid value encountered in double_scalars\n",
      "  FAC1 = 2*(np.pi*bw/RANGE)**2\n"
     ]
    },
    {
     "data": {
      "image/png": "[encoded data removed]",
      "text/plain": [
       "<Figure size 761.5x720 with 20 Axes>"
      ]
     },
     "metadata": {
      "needs_background": "light"
     },
     "output_type": "display_data"
    }
   ],
   "source": [
    "#pairplot with Seaborn\n",
    "sns.pairplot(r, hue='predict')\n",
    "plt.show()"
   ]
  }
 ],
 "metadata": {
  "kernelspec": {
   "display_name": "Python 3",
   "language": "python",
   "name": "python3"
  },
  "language_info": {
   "codemirror_mode": {
    "name": "ipython",
    "version": 3
   },
   "file_extension": ".py",
   "mimetype": "text/x-python",
   "name": "python",
   "nbconvert_exporter": "python",
   "pygments_lexer": "ipython3",
   "version": "3.6.4"
  }
 },
 "nbformat": 4,
 "nbformat_minor": 2
}
